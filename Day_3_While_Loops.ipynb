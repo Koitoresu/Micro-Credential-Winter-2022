{
  "nbformat": 4,
  "nbformat_minor": 0,
  "metadata": {
    "colab": {
      "name": "Day 3 While Loops.ipynb",
      "provenance": [],
      "authorship_tag": "ABX9TyOPf14re6zaqxfTw+K6pvsX",
      "include_colab_link": true
    },
    "kernelspec": {
      "name": "python3",
      "display_name": "Python 3"
    },
    "language_info": {
      "name": "python"
    }
  },
  "cells": [
    {
      "cell_type": "markdown",
      "metadata": {
        "id": "view-in-github",
        "colab_type": "text"
      },
      "source": [
        "<a href=\"https://colab.research.google.com/github/Koitoresu/Micro-Credential-Winter-2022/blob/main/Day_3_While_Loops.ipynb\" target=\"_parent\"><img src=\"https://colab.research.google.com/assets/colab-badge.svg\" alt=\"Open In Colab\"/></a>"
      ]
    },
    {
      "cell_type": "markdown",
      "source": [
        "#While Loops"
      ],
      "metadata": {
        "id": "06yyDMncJRfI"
      }
    },
    {
      "cell_type": "code",
      "source": [
        "patient = {'Name': 'Jack', 'Last Name': 'Sparrow', 'MRN': '001234567', 'DOB': '22231845'}"
      ],
      "metadata": {
        "id": "1phs_pw7JYn7"
      },
      "execution_count": null,
      "outputs": []
    },
    {
      "cell_type": "code",
      "source": [
        "for key,value in patient.items():\n",
        "  print('\\n key: ' + key)\n",
        "  print('\\n value: ' + value)"
      ],
      "metadata": {
        "colab": {
          "base_uri": "https://localhost:8080/"
        },
        "id": "0qs8KKyVJYlr",
        "outputId": "cf8f64ca-dbf4-434d-ca6d-41a664d6e790"
      },
      "execution_count": null,
      "outputs": [
        {
          "output_type": "stream",
          "name": "stdout",
          "text": [
            "\n",
            " key: Name\n",
            "\n",
            " value: Jack\n",
            "\n",
            " key: Last Name\n",
            "\n",
            " value: Sparrow\n",
            "\n",
            " key: MRN\n",
            "\n",
            " value: 001234567\n",
            "\n",
            " key: DOB\n",
            "\n",
            " value: 22231845\n"
          ]
        }
      ]
    },
    {
      "cell_type": "code",
      "source": [
        "for keys in patient.keys():\n",
        "  print(keys)"
      ],
      "metadata": {
        "colab": {
          "base_uri": "https://localhost:8080/"
        },
        "id": "ZXqKy-z0JYjR",
        "outputId": "433df014-8a0f-4635-9236-187766fa11d5"
      },
      "execution_count": null,
      "outputs": [
        {
          "output_type": "stream",
          "name": "stdout",
          "text": [
            "Name\n",
            "Last Name\n",
            "MRN\n",
            "DOB\n"
          ]
        }
      ]
    },
    {
      "cell_type": "code",
      "source": [
        "for values in patient.values():\n",
        "  print(values)"
      ],
      "metadata": {
        "colab": {
          "base_uri": "https://localhost:8080/"
        },
        "id": "2Pyxpy8iJYgs",
        "outputId": "eeb04223-335b-43e4-f8bd-81d89d76a998"
      },
      "execution_count": null,
      "outputs": [
        {
          "output_type": "stream",
          "name": "stdout",
          "text": [
            "Jack\n",
            "Sparrow\n",
            "001234567\n",
            "22231845\n"
          ]
        }
      ]
    },
    {
      "cell_type": "code",
      "source": [
        "number = 1\n",
        "\n",
        "while number <= 5:\n",
        "  print(number)\n",
        "  number += 1\n"
      ],
      "metadata": {
        "id": "sBVTsaE3JYel",
        "colab": {
          "base_uri": "https://localhost:8080/"
        },
        "outputId": "6b70204a-b3d9-4541-ce49-5ec7adbef188"
      },
      "execution_count": null,
      "outputs": [
        {
          "output_type": "stream",
          "name": "stdout",
          "text": [
            "1\n",
            "2\n",
            "3\n",
            "4\n",
            "5\n"
          ]
        }
      ]
    },
    {
      "cell_type": "code",
      "source": [
        "name = input('What is your name: ')"
      ],
      "metadata": {
        "id": "DoVeGsCFJYcS",
        "colab": {
          "base_uri": "https://localhost:8080/"
        },
        "outputId": "c7ee435a-a916-4836-f34a-3b06e4a4d3a9"
      },
      "execution_count": null,
      "outputs": [
        {
          "name": "stdout",
          "output_type": "stream",
          "text": [
            "What is your name: Kenobi\n"
          ]
        }
      ]
    },
    {
      "cell_type": "code",
      "source": [
        "name"
      ],
      "metadata": {
        "id": "-mx2BC7YJYaG",
        "colab": {
          "base_uri": "https://localhost:8080/",
          "height": 35
        },
        "outputId": "33b01580-8bd4-47d2-d3e9-79266df39d1b"
      },
      "execution_count": null,
      "outputs": [
        {
          "output_type": "execute_result",
          "data": {
            "application/vnd.google.colaboratory.intrinsic+json": {
              "type": "string"
            },
            "text/plain": [
              "'Kenobi'"
            ]
          },
          "metadata": {},
          "execution_count": 7
        }
      ]
    },
    {
      "cell_type": "code",
      "source": [
        "age = int(input('What is your age: '))"
      ],
      "metadata": {
        "id": "434zR-5hJYXs",
        "colab": {
          "base_uri": "https://localhost:8080/"
        },
        "outputId": "ad16ebb1-fe64-4647-a5aa-41adfbf7a11a"
      },
      "execution_count": null,
      "outputs": [
        {
          "name": "stdout",
          "output_type": "stream",
          "text": [
            "What is your age: 34\n"
          ]
        }
      ]
    },
    {
      "cell_type": "code",
      "source": [
        "age"
      ],
      "metadata": {
        "id": "6pfQOkHAJYVR",
        "colab": {
          "base_uri": "https://localhost:8080/"
        },
        "outputId": "9eed5c49-8cd7-47bb-981f-390377761b23"
      },
      "execution_count": null,
      "outputs": [
        {
          "output_type": "execute_result",
          "data": {
            "text/plain": [
              "34"
            ]
          },
          "metadata": {},
          "execution_count": 9
        }
      ]
    },
    {
      "cell_type": "code",
      "source": [
        "prompt = 'Input message... I will repreat untill you type quit...: '\n",
        "message = ''\n",
        "\n",
        "while message != 'quit':\n",
        "  message = input(prompt)\n",
        "  print(message)\n"
      ],
      "metadata": {
        "id": "iGlQTKNnJYS7",
        "colab": {
          "base_uri": "https://localhost:8080/"
        },
        "outputId": "1572a093-24de-4036-ed71-545b1f8e13bc"
      },
      "execution_count": null,
      "outputs": [
        {
          "output_type": "stream",
          "name": "stdout",
          "text": [
            "Input message... I will repreat untill you type quit...: no\n",
            "no\n",
            "Input message... I will repreat untill you type quit...: no\n",
            "no\n",
            "Input message... I will repreat untill you type quit...: yes\n",
            "yes\n",
            "Input message... I will repreat untill you type quit...: now\n",
            "now\n",
            "Input message... I will repreat untill you type quit...: tomorrow\n",
            "tomorrow\n",
            "Input message... I will repreat untill you type quit...: quit\n",
            "quit\n"
          ]
        }
      ]
    },
    {
      "cell_type": "code",
      "source": [
        "prompt = 'Input message... I will repreat untill you type quit...: '\n",
        "message = ''\n",
        "\n",
        "\n",
        "active = True\n",
        "\n",
        "while active:\n",
        "  message = input(prompt)\n",
        "  \n",
        "  if message == 'quit':\n",
        "    active = False\n",
        "  else:\n",
        "    print(message)\n",
        "y"
      ],
      "metadata": {
        "id": "w_0lGJsEJYQY",
        "colab": {
          "base_uri": "https://localhost:8080/"
        },
        "outputId": "feea7272-caca-4d7c-fb82-9c33a15cda33"
      },
      "execution_count": null,
      "outputs": [
        {
          "name": "stdout",
          "output_type": "stream",
          "text": [
            "Input message... I will repreat untill you type quit...: no\n",
            "no\n",
            "Input message... I will repreat untill you type quit...: no\n",
            "no\n",
            "Input message... I will repreat untill you type quit...: es\n",
            "es\n",
            "Input message... I will repreat untill you type quit...: yes\n",
            "yes\n",
            "Input message... I will repreat untill you type quit...: quit\n"
          ]
        }
      ]
    },
    {
      "cell_type": "code",
      "source": [
        ""
      ],
      "metadata": {
        "id": "030FNgKrJYOG"
      },
      "execution_count": null,
      "outputs": []
    },
    {
      "cell_type": "code",
      "source": [
        ""
      ],
      "metadata": {
        "id": "TDZT_wwNJYL4"
      },
      "execution_count": null,
      "outputs": []
    },
    {
      "cell_type": "code",
      "source": [
        ""
      ],
      "metadata": {
        "id": "jsoVeGBZJYJf"
      },
      "execution_count": null,
      "outputs": []
    },
    {
      "cell_type": "code",
      "source": [
        ""
      ],
      "metadata": {
        "id": "u5IexDeVJYG1"
      },
      "execution_count": null,
      "outputs": []
    },
    {
      "cell_type": "code",
      "source": [
        ""
      ],
      "metadata": {
        "id": "byg9C-KbJYEv"
      },
      "execution_count": null,
      "outputs": []
    },
    {
      "cell_type": "code",
      "source": [
        ""
      ],
      "metadata": {
        "id": "PwazAoHJJYCk"
      },
      "execution_count": null,
      "outputs": []
    },
    {
      "cell_type": "code",
      "source": [
        ""
      ],
      "metadata": {
        "id": "37hi6NyZJYAD"
      },
      "execution_count": null,
      "outputs": []
    },
    {
      "cell_type": "code",
      "source": [
        ""
      ],
      "metadata": {
        "id": "dDMqdkzqJX9D"
      },
      "execution_count": null,
      "outputs": []
    }
  ]
}