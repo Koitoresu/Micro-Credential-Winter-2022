{
  "nbformat": 4,
  "nbformat_minor": 0,
  "metadata": {
    "colab": {
      "name": "Lists, Dictionaries & Loops Assignment.ipynb",
      "provenance": [],
      "collapsed_sections": [],
      "authorship_tag": "ABX9TyMZ3/yiWm5aUpV5wNAqvXgQ",
      "include_colab_link": true
    },
    "kernelspec": {
      "name": "python3",
      "display_name": "Python 3"
    },
    "language_info": {
      "name": "python"
    }
  },
  "cells": [
    {
      "cell_type": "markdown",
      "metadata": {
        "id": "view-in-github",
        "colab_type": "text"
      },
      "source": [
        "<a href=\"https://colab.research.google.com/github/Koitoresu/Micro-Credential-Winter-2022/blob/main/Lists%2C_Dictionaries_%26_Loops_Assignment.ipynb\" target=\"_parent\"><img src=\"https://colab.research.google.com/assets/colab-badge.svg\" alt=\"Open In Colab\"/></a>"
      ]
    },
    {
      "cell_type": "markdown",
      "source": [
        "# Lesson 4 – Looping"
      ],
      "metadata": {
        "id": "VT4TuDgGaSLo"
      }
    },
    {
      "cell_type": "code",
      "source": [
        "# 1. Create a list that holds 5 data variables.\n",
        "listOfNum = [1, 2, 3, 4, 5]"
      ],
      "metadata": {
        "id": "FT77taSQbIm6"
      },
      "execution_count": 1,
      "outputs": []
    },
    {
      "cell_type": "code",
      "source": [
        "listOfNum"
      ],
      "metadata": {
        "colab": {
          "base_uri": "https://localhost:8080/"
        },
        "id": "_1RrDUuKbsjd",
        "outputId": "81f9cd26-032f-42bd-94c1-c0683c14f968"
      },
      "execution_count": 2,
      "outputs": [
        {
          "output_type": "execute_result",
          "data": {
            "text/plain": [
              "[1, 2, 3, 4, 5]"
            ]
          },
          "metadata": {},
          "execution_count": 2
        }
      ]
    },
    {
      "cell_type": "code",
      "source": [
        "# 2. Print out those variables by using a for loop.\n",
        "for x in listOfNum: \n",
        "  print(x)"
      ],
      "metadata": {
        "colab": {
          "base_uri": "https://localhost:8080/"
        },
        "id": "F5H4MuGpbIkt",
        "outputId": "708f360d-b0b2-404f-ece3-3c8138b32b9e"
      },
      "execution_count": 3,
      "outputs": [
        {
          "output_type": "stream",
          "name": "stdout",
          "text": [
            "1\n",
            "2\n",
            "3\n",
            "4\n",
            "5\n"
          ]
        }
      ]
    },
    {
      "cell_type": "code",
      "source": [
        "# 3. Modify your for loop to add a message to your for loop.\n",
        "for x in listOfNum:\n",
        "  print(\"This is number\", x)"
      ],
      "metadata": {
        "colab": {
          "base_uri": "https://localhost:8080/"
        },
        "id": "HrlVTTHRbIiL",
        "outputId": "f1e30cfa-945e-4e69-b120-39c85dd17858"
      },
      "execution_count": 4,
      "outputs": [
        {
          "output_type": "stream",
          "name": "stdout",
          "text": [
            "This is number 1\n",
            "This is number 2\n",
            "This is number 3\n",
            "This is number 4\n",
            "This is number 5\n"
          ]
        }
      ]
    },
    {
      "cell_type": "code",
      "source": [
        "# 4. Use a for loop to print even numbers from 1-20.\n",
        "for x in range(1, 21):\n",
        "  if x % 2 == 0:\n",
        "    print(x)"
      ],
      "metadata": {
        "colab": {
          "base_uri": "https://localhost:8080/"
        },
        "id": "SNnTSubxbIf5",
        "outputId": "bfacd042-ac64-455f-fbb7-83028ac6c1ce"
      },
      "execution_count": 5,
      "outputs": [
        {
          "output_type": "stream",
          "name": "stdout",
          "text": [
            "2\n",
            "4\n",
            "6\n",
            "8\n",
            "10\n",
            "12\n",
            "14\n",
            "16\n",
            "18\n",
            "20\n"
          ]
        }
      ]
    },
    {
      "cell_type": "code",
      "source": [
        "# 5. Sort your list in alphabetic order.\n",
        "listOfAlpha = ['z', 'a', 'y', 'b', 'm']\n",
        "listOfAlpha.sort()\n",
        "listOfAlpha"
      ],
      "metadata": {
        "colab": {
          "base_uri": "https://localhost:8080/"
        },
        "id": "s0E9Um3vbIdn",
        "outputId": "e3611865-9af4-4e08-e644-8dea278691ee"
      },
      "execution_count": 6,
      "outputs": [
        {
          "output_type": "execute_result",
          "data": {
            "text/plain": [
              "['a', 'b', 'm', 'y', 'z']"
            ]
          },
          "metadata": {},
          "execution_count": 6
        }
      ]
    },
    {
      "cell_type": "code",
      "source": [
        "# 6. Print out the first three elements of your list.\n",
        "listOfAlpha[0:3]"
      ],
      "metadata": {
        "colab": {
          "base_uri": "https://localhost:8080/"
        },
        "id": "TKMITzNVc_E5",
        "outputId": "029b5242-83d6-4c10-9c68-0528ba65176f"
      },
      "execution_count": 7,
      "outputs": [
        {
          "output_type": "execute_result",
          "data": {
            "text/plain": [
              "['a', 'b', 'm']"
            ]
          },
          "metadata": {},
          "execution_count": 7
        }
      ]
    },
    {
      "cell_type": "code",
      "source": [
        "# 7. Create a loop to print the last 2 elements of your list.\n",
        "listOfAlpha.reverse()\n",
        "for x in listOfAlpha[0:2]:\n",
        "  print(x)"
      ],
      "metadata": {
        "colab": {
          "base_uri": "https://localhost:8080/"
        },
        "id": "QAT3jVE9c_CH",
        "outputId": "58346dda-272f-43af-851e-ca1cac1216ad"
      },
      "execution_count": 8,
      "outputs": [
        {
          "output_type": "stream",
          "name": "stdout",
          "text": [
            "z\n",
            "y\n"
          ]
        }
      ]
    },
    {
      "cell_type": "markdown",
      "source": [
        "# Lesson: Unit 2 – Python Dictionaries"
      ],
      "metadata": {
        "id": "lDARBn2Lc_AZ"
      }
    },
    {
      "cell_type": "code",
      "source": [
        "# 1. Create a simple dictionary that stores 2 variables, for example: first and last name.\n",
        "name = {'firstName': 'Koy', 'lastName': 'Torres'}\n",
        "print(name['firstName'], name['lastName'])"
      ],
      "metadata": {
        "colab": {
          "base_uri": "https://localhost:8080/"
        },
        "id": "1zRgC8qIc-_A",
        "outputId": "92d0375a-858f-4edb-eb24-5322f64cfbcd"
      },
      "execution_count": 9,
      "outputs": [
        {
          "output_type": "stream",
          "name": "stdout",
          "text": [
            "Koy Torres\n"
          ]
        }
      ]
    },
    {
      "cell_type": "code",
      "source": [
        "# 2. Print out those variables stored in your previous dictionary.\n",
        "for x,y in name.items():\n",
        "  print(f\"{x}: {y}\")"
      ],
      "metadata": {
        "colab": {
          "base_uri": "https://localhost:8080/"
        },
        "id": "qgdbnWEXc-9i",
        "outputId": "92f7d6a0-7be6-4a81-acbd-4c2d17300226"
      },
      "execution_count": 10,
      "outputs": [
        {
          "output_type": "stream",
          "name": "stdout",
          "text": [
            "firstName: Koy\n",
            "lastName: Torres\n"
          ]
        }
      ]
    },
    {
      "cell_type": "code",
      "source": [
        "# 3. Add a message to those variables on printing: for example: “Hello, firstname lastname!”\n",
        "print(f\"Hello, my name is {name['firstName']} {name['lastName']}\")"
      ],
      "metadata": {
        "colab": {
          "base_uri": "https://localhost:8080/"
        },
        "id": "lPHR77Cic-7U",
        "outputId": "e2d4414f-358c-4c24-bf2e-65f0bc44f771"
      },
      "execution_count": 11,
      "outputs": [
        {
          "output_type": "stream",
          "name": "stdout",
          "text": [
            "Hello, my name is Koy Torres\n"
          ]
        }
      ]
    },
    {
      "cell_type": "code",
      "source": [
        "# 4. Create a dictionary that holds 2 key: value pairs:\n",
        "#a. Look through your dictionary and print each pair,\n",
        "dict = {'one':1, 'two':2}\n",
        "for x,y in dict.items():\n",
        "  print(f\"{x}: {y}\")\n"
      ],
      "metadata": {
        "colab": {
          "base_uri": "https://localhost:8080/"
        },
        "id": "6X7o6HD7c-5B",
        "outputId": "a8848636-0844-4a8d-ff9e-79c568d157ee"
      },
      "execution_count": 12,
      "outputs": [
        {
          "output_type": "stream",
          "name": "stdout",
          "text": [
            "one: 1\n",
            "two: 2\n"
          ]
        }
      ]
    },
    {
      "cell_type": "code",
      "source": [
        "#5. Create a nested dictionary containing three dictionaries – these dictionaries could be\n",
        "#anything (favorite pets, travel locations, etc.)\n",
        "#a. Loop through the dictionaries and print a message for each.\n",
        "largeDiction = {'Dog':{'Black':{'Vicious': {'Large': 'German Shephard'}}}}\n",
        "for x,y in largeDiction.items():\n",
        "  print('The pet you are looking for is a', x)\n",
        "\n",
        "for key in y:\n",
        "  print(key + ':', y[key])"
      ],
      "metadata": {
        "colab": {
          "base_uri": "https://localhost:8080/"
        },
        "id": "jzDbFklzk7jI",
        "outputId": "73d730e6-687d-4b3a-d85f-af78f4595b85"
      },
      "execution_count": 25,
      "outputs": [
        {
          "output_type": "stream",
          "name": "stdout",
          "text": [
            "The pet you are looking for is a Dog\n",
            "Black: {'Vicious': {'Large': 'German Shephard'}}\n"
          ]
        }
      ]
    },
    {
      "cell_type": "code",
      "source": [
        ""
      ],
      "metadata": {
        "id": "fR9F8fpWqM_P"
      },
      "execution_count": null,
      "outputs": []
    },
    {
      "cell_type": "code",
      "source": [
        ""
      ],
      "metadata": {
        "id": "7_46IuwirljQ"
      },
      "execution_count": null,
      "outputs": []
    },
    {
      "cell_type": "code",
      "source": [
        ""
      ],
      "metadata": {
        "id": "QuDzYuyhsv_E"
      },
      "execution_count": null,
      "outputs": []
    }
  ]
}