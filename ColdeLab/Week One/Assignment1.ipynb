{
  "nbformat": 4,
  "nbformat_minor": 0,
  "metadata": {
    "colab": {
      "name": "Assignment1.ipynb",
      "provenance": [],
      "collapsed_sections": [],
      "authorship_tag": "ABX9TyNFPV5nZYjpBUsWsJNvqJkO",
      "include_colab_link": true
    },
    "kernelspec": {
      "name": "python3",
      "display_name": "Python 3"
    },
    "language_info": {
      "name": "python"
    }
  },
  "cells": [
    {
      "cell_type": "markdown",
      "metadata": {
        "id": "view-in-github",
        "colab_type": "text"
      },
      "source": [
        "<a href=\"https://colab.research.google.com/github/Koitoresu/Micro-Credential-Winter-2022/blob/main/Assignment1.ipynb\" target=\"_parent\"><img src=\"https://colab.research.google.com/assets/colab-badge.svg\" alt=\"Open In Colab\"/></a>"
      ]
    },
    {
      "cell_type": "code",
      "execution_count": null,
      "metadata": {
        "colab": {
          "base_uri": "https://localhost:8080/"
        },
        "id": "DG1V5qzAiUFr",
        "outputId": "370de357-fead-43b4-9483-0756a3fbcf15"
      },
      "outputs": [
        {
          "output_type": "stream",
          "name": "stdout",
          "text": [
            "please enter an integer: 5\n",
            "0x5\n"
          ]
        }
      ],
      "source": [
        "num = int(input('please enter an integer: '))\n",
        "hexValue = hex(num)\n",
        "print(hexValue)"
      ]
    },
    {
      "cell_type": "code",
      "source": [
        "num = int(input('please enter an integer: '))\n",
        "binValue = bin(num)\n",
        "print(binValue)"
      ],
      "metadata": {
        "colab": {
          "base_uri": "https://localhost:8080/"
        },
        "id": "KkCPt2PhigZm",
        "outputId": "aa842aad-d86b-428f-cc1f-84febc959f93"
      },
      "execution_count": null,
      "outputs": [
        {
          "output_type": "stream",
          "name": "stdout",
          "text": [
            "please enter an integer: 5\n",
            "0b101\n"
          ]
        }
      ]
    },
    {
      "cell_type": "code",
      "source": [
        "num = int(input('please enter an integer: '))\n",
        "octValue = oct(num)\n",
        "print(octValue)"
      ],
      "metadata": {
        "colab": {
          "base_uri": "https://localhost:8080/"
        },
        "id": "l7FjApT_jzh9",
        "outputId": "9b4dd965-0653-435b-a705-5aa5a830fa5a"
      },
      "execution_count": null,
      "outputs": [
        {
          "output_type": "stream",
          "name": "stdout",
          "text": [
            "please enter an integer: 5\n",
            "0o5\n"
          ]
        }
      ]
    },
    {
      "cell_type": "code",
      "source": [
        ""
      ],
      "metadata": {
        "id": "RsVBmWB6ks9Q"
      },
      "execution_count": null,
      "outputs": []
    }
  ]
}
