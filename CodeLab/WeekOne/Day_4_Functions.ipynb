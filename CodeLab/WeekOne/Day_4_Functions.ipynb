{
  "nbformat": 4,
  "nbformat_minor": 0,
  "metadata": {
    "colab": {
      "name": "Day 4 Functions.ipynb",
      "provenance": [],
      "include_colab_link": true
    },
    "kernelspec": {
      "name": "python3",
      "display_name": "Python 3"
    },
    "language_info": {
      "name": "python"
    }
  },
  "cells": [
    {
      "cell_type": "markdown",
      "metadata": {
        "id": "view-in-github",
        "colab_type": "text"
      },
      "source": [
        "<a href=\"https://colab.research.google.com/github/Koitoresu/Micro-Credential-Winter-2022/blob/main/Day_4_Functions.ipynb\" target=\"_parent\"><img src=\"https://colab.research.google.com/assets/colab-badge.svg\" alt=\"Open In Colab\"/></a>"
      ]
    },
    {
      "cell_type": "markdown",
      "source": [
        "# Functions\n",
        "\n",
        "So what is a function?\n",
        "\n",
        "Formally, a function is a useful device that groups together a set of statements so they can be run more than once. They can also let us specify parameters that can serve as inputs to the functions.\n",
        "\n",
        "On a more fundamental level, functions allow us to not have to repeatedly write the same code again and again. If you remember back to the lessons on strings and lists, remember that we used a function len() to get the length of a string. Since checking the length of a sequence is a common task you would want to write a function that can do this repeatedly at command.\n",
        "\n",
        "Functions will be one of most basic levels of reusing code in Python, and it will also allow us to start thinking of program design (we will dive much deeper into the ideas of design when we learn about Object Oriented Programming)."
      ],
      "metadata": {
        "id": "QIyJCu6jzXb-"
      }
    },
    {
      "cell_type": "markdown",
      "source": [
        "## def Statements\n",
        "Let's see how to build out a function's syntax in Python. It has the following form:"
      ],
      "metadata": {
        "id": "jOnxyeJyzeN5"
      }
    },
    {
      "cell_type": "code",
      "source": [
        "def name_of_function(arg1,arg2):\n",
        "    '''\n",
        "    This is where the function's Document String (doc-string) goes\n",
        "    '''\n",
        "    # Do stuff here\n",
        "    #return desired result"
      ],
      "metadata": {
        "id": "VcR4tUsXzeJd"
      },
      "execution_count": null,
      "outputs": []
    },
    {
      "cell_type": "code",
      "source": [
        "def greeting():\n",
        "  \"\"\"\n",
        "  Author: who did this function.\n",
        "  Input: What argiumrents the function takes.\n",
        "  Output: This function displays a greeting\n",
        "  \"\"\"\n",
        "  print('Hi there')"
      ],
      "metadata": {
        "id": "bbmnu1pezeGb"
      },
      "execution_count": null,
      "outputs": []
    },
    {
      "cell_type": "code",
      "source": [
        "greeting()"
      ],
      "metadata": {
        "colab": {
          "base_uri": "https://localhost:8080/"
        },
        "id": "AzZ4pBPqzeDs",
        "outputId": "a56722d4-0788-44e5-db65-b65a50441cb8"
      },
      "execution_count": null,
      "outputs": [
        {
          "output_type": "stream",
          "name": "stdout",
          "text": [
            "Hi there\n"
          ]
        }
      ]
    },
    {
      "cell_type": "code",
      "source": [
        "help(greeting)\n"
      ],
      "metadata": {
        "colab": {
          "base_uri": "https://localhost:8080/"
        },
        "id": "j3ICAuHzzeAy",
        "outputId": "341040da-6f75-46e9-e130-68cd07872f12"
      },
      "execution_count": null,
      "outputs": [
        {
          "output_type": "stream",
          "name": "stdout",
          "text": [
            "Help on function greeting in module __main__:\n",
            "\n",
            "greeting()\n",
            "    Author: who did this function.\n",
            "    Input: What argiumrents the function takes.\n",
            "    Output: This function displays a greeting\n",
            "\n"
          ]
        }
      ]
    },
    {
      "cell_type": "code",
      "source": [
        "def add_num(x,y):\n",
        "    return x+y"
      ],
      "metadata": {
        "id": "wWbm-FANzd93"
      },
      "execution_count": null,
      "outputs": []
    },
    {
      "cell_type": "code",
      "source": [
        "add_num(3, 6)"
      ],
      "metadata": {
        "colab": {
          "base_uri": "https://localhost:8080/"
        },
        "id": "sqekHOxZzd7G",
        "outputId": "29a7dee1-4804-4d93-b40c-4f6b645405c2"
      },
      "execution_count": null,
      "outputs": [
        {
          "output_type": "execute_result",
          "data": {
            "text/plain": [
              "9"
            ]
          },
          "metadata": {},
          "execution_count": 14
        }
      ]
    },
    {
      "cell_type": "code",
      "source": [
        "add_num('d', 'g')"
      ],
      "metadata": {
        "colab": {
          "base_uri": "https://localhost:8080/",
          "height": 35
        },
        "id": "hHBZ8g3_zd3g",
        "outputId": "59cba3eb-ae77-42d4-baaa-f31eb79c0f39"
      },
      "execution_count": null,
      "outputs": [
        {
          "output_type": "execute_result",
          "data": {
            "application/vnd.google.colaboratory.intrinsic+json": {
              "type": "string"
            },
            "text/plain": [
              "'dg'"
            ]
          },
          "metadata": {},
          "execution_count": 15
        }
      ]
    },
    {
      "cell_type": "markdown",
      "source": [
        "#Write simple calculator!"
      ],
      "metadata": {
        "id": "kU7e3J7tzd0C"
      }
    },
    {
      "cell_type": "code",
      "source": [
        "# Simple Calculator\n",
        "\n",
        "def add(x, y): \n",
        "   return x + y\n",
        " \n",
        "def subtract(x, y):\n",
        "   return x - y\n",
        " \n",
        "def multiply(x, y):\n",
        "   return x * y\n",
        " \n",
        "def divide(x, y):\n",
        "   return x / y\n",
        " \n",
        "# Take input from the user\n",
        "\n",
        "print(\"Select operation \")\n",
        "print(\"1: Add\")\n",
        "print(\"2: Subtract\")\n",
        "print(\"3: Multiply\")\n",
        "print(\"4: Divide\")\n",
        " \n",
        "choice = input(\"Enter choice(1/2/3/4):\")\n",
        " \n",
        "num1 = int(input(\"Enter first number: \"))\n",
        "num2 = int(input(\"Enter second number: \"))\n",
        " \n",
        "if choice == '1':\n",
        "   print(num1,\"+\",num2,\"=\", add(num1,num2))\n",
        " \n",
        "elif choice == '2':\n",
        "   print(num1,\"-\",num2,\"=\", subtract(num1,num2))\n",
        " \n",
        "elif choice == '3':\n",
        "   print(num1,\"*\",num2,\"=\", multiply(num1,num2))\n",
        " \n",
        "elif choice == '4':\n",
        "   print(num1,\"/\",num2,\"=\", divide(num1,num2))\n",
        "else:\n",
        "   print(\"Invalid input\")"
      ],
      "metadata": {
        "id": "o9B-PHqezdw9"
      },
      "execution_count": null,
      "outputs": []
    },
    {
      "cell_type": "code",
      "source": [
        "def greeting(fname, lname, age):\n",
        "  \"\"\"\n",
        "  Author: who did this function.\n",
        "  Input: What argiumrents the function takes.\n",
        "  Output: This function displays a greeting\n",
        "  \"\"\"\n",
        "  print(f'Hi there {fname}, {lname}... You are are {age} years old')"
      ],
      "metadata": {
        "id": "tmFuuJJg654w"
      },
      "execution_count": null,
      "outputs": []
    },
    {
      "cell_type": "code",
      "source": [
        "greeting('General', 'Kenobi', 87)"
      ],
      "metadata": {
        "id": "6T-zVo_L653J"
      },
      "execution_count": null,
      "outputs": []
    },
    {
      "cell_type": "code",
      "source": [
        "add(4,6)"
      ],
      "metadata": {
        "id": "BWcmvRhb6516"
      },
      "execution_count": null,
      "outputs": []
    },
    {
      "cell_type": "code",
      "source": [
        "def greeting3(name='Mark'):\n",
        "  \"\"\"\n",
        "  Author: who did this function.\n",
        "  Input: What argiumrents the function takes.\n",
        "  Output: This function displays a greeting\n",
        "  \"\"\"\n",
        "  print(f'Hi there {name}')"
      ],
      "metadata": {
        "id": "tOT1m2e765yg"
      },
      "execution_count": null,
      "outputs": []
    },
    {
      "cell_type": "code",
      "source": [
        "greeting3('Peter')"
      ],
      "metadata": {
        "id": "460pTibT65xE"
      },
      "execution_count": null,
      "outputs": []
    },
    {
      "cell_type": "code",
      "source": [
        "greeting3()"
      ],
      "metadata": {
        "id": "3pKPcTai65vU"
      },
      "execution_count": null,
      "outputs": []
    },
    {
      "cell_type": "code",
      "source": [
        ""
      ],
      "metadata": {
        "id": "Z6QeEkkK65th"
      },
      "execution_count": null,
      "outputs": []
    },
    {
      "cell_type": "code",
      "source": [
        ""
      ],
      "metadata": {
        "id": "09cOM6lR65rj"
      },
      "execution_count": null,
      "outputs": []
    },
    {
      "cell_type": "code",
      "source": [
        ""
      ],
      "metadata": {
        "id": "Mt7qrYZb65pc"
      },
      "execution_count": null,
      "outputs": []
    },
    {
      "cell_type": "code",
      "source": [
        ""
      ],
      "metadata": {
        "id": "v3R2ayOz65nS"
      },
      "execution_count": null,
      "outputs": []
    },
    {
      "cell_type": "code",
      "source": [
        ""
      ],
      "metadata": {
        "id": "Ut0oZ7XL65kd"
      },
      "execution_count": null,
      "outputs": []
    },
    {
      "cell_type": "code",
      "source": [
        ""
      ],
      "metadata": {
        "id": "H87MPate65iO"
      },
      "execution_count": null,
      "outputs": []
    }
  ]
}
