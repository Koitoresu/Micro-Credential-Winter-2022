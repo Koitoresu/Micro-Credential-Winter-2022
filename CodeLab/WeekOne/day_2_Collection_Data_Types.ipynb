{
  "nbformat": 4,
  "nbformat_minor": 0,
  "metadata": {
    "colab": {
      "name": "day 2 Collection Data Types.ipynb",
      "provenance": [],
      "authorship_tag": "ABX9TyPIkt2Rfjb/lpxHBEEVhiBx",
      "include_colab_link": true
    },
    "kernelspec": {
      "name": "python3",
      "display_name": "Python 3"
    },
    "language_info": {
      "name": "python"
    }
  },
  "cells": [
    {
      "cell_type": "markdown",
      "metadata": {
        "id": "view-in-github",
        "colab_type": "text"
      },
      "source": [
        "<a href=\"https://colab.research.google.com/github/Koitoresu/Micro-Credential-Winter-2022/blob/main/day_2_Collection_Data_Types.ipynb\" target=\"_parent\"><img src=\"https://colab.research.google.com/assets/colab-badge.svg\" alt=\"Open In Colab\"/></a>"
      ]
    },
    {
      "cell_type": "markdown",
      "source": [
        " # Collection Data Types\n",
        " Lists, Dictionaries, Sets & Tuples\n",
        "\n",
        " # Lists"
      ],
      "metadata": {
        "id": "8QG2tqWFNwxM"
      }
    },
    {
      "cell_type": "code",
      "source": [
        "movies = ['star wars', 'star trek', 'lord of the rings', 'avengers']\n",
        "print(movies)"
      ],
      "metadata": {
        "colab": {
          "base_uri": "https://localhost:8080/"
        },
        "id": "S-fLBuT2Ozn5",
        "outputId": "e822692f-a4d8-47eb-ec4f-ec27e2f00724"
      },
      "execution_count": null,
      "outputs": [
        {
          "output_type": "stream",
          "name": "stdout",
          "text": [
            "['star wars', 'star trek', 'lord of the rings', 'avengers']\n"
          ]
        }
      ]
    },
    {
      "cell_type": "code",
      "source": [
        "movies[0]"
      ],
      "metadata": {
        "colab": {
          "base_uri": "https://localhost:8080/",
          "height": 35
        },
        "id": "xM17ZKiTPHB3",
        "outputId": "9817c7e9-e1b7-4fb0-ca76-0bec647c9130"
      },
      "execution_count": null,
      "outputs": [
        {
          "output_type": "execute_result",
          "data": {
            "application/vnd.google.colaboratory.intrinsic+json": {
              "type": "string"
            },
            "text/plain": [
              "'star wars'"
            ]
          },
          "metadata": {},
          "execution_count": 3
        }
      ]
    },
    {
      "cell_type": "code",
      "source": [
        "movies[1]"
      ],
      "metadata": {
        "colab": {
          "base_uri": "https://localhost:8080/",
          "height": 35
        },
        "id": "3KdoeZYrPs_J",
        "outputId": "2ab7a1d1-3b4e-4657-af54-e422bc7dfc57"
      },
      "execution_count": null,
      "outputs": [
        {
          "output_type": "execute_result",
          "data": {
            "application/vnd.google.colaboratory.intrinsic+json": {
              "type": "string"
            },
            "text/plain": [
              "'star trek'"
            ]
          },
          "metadata": {},
          "execution_count": 4
        }
      ]
    },
    {
      "cell_type": "code",
      "source": [
        "movies[2]"
      ],
      "metadata": {
        "colab": {
          "base_uri": "https://localhost:8080/",
          "height": 35
        },
        "id": "-5-ZucK2Pu70",
        "outputId": "0b1e5b8c-baa0-49e6-f93f-a31326692cca"
      },
      "execution_count": null,
      "outputs": [
        {
          "output_type": "execute_result",
          "data": {
            "application/vnd.google.colaboratory.intrinsic+json": {
              "type": "string"
            },
            "text/plain": [
              "'lord of the rings'"
            ]
          },
          "metadata": {},
          "execution_count": 5
        }
      ]
    },
    {
      "cell_type": "code",
      "source": [
        "movies[-1]"
      ],
      "metadata": {
        "colab": {
          "base_uri": "https://localhost:8080/",
          "height": 35
        },
        "id": "sUfKpSa5PwgA",
        "outputId": "28ac8769-8e4a-4328-a2ec-886271575633"
      },
      "execution_count": null,
      "outputs": [
        {
          "output_type": "execute_result",
          "data": {
            "application/vnd.google.colaboratory.intrinsic+json": {
              "type": "string"
            },
            "text/plain": [
              "'avengers'"
            ]
          },
          "metadata": {},
          "execution_count": 6
        }
      ]
    },
    {
      "cell_type": "code",
      "source": [
        "movies = ['star wars', 'star trek', 'lord of the rings', 'avengers']    #List is being created with preset strings\n",
        "message = 'My favorite movie is ' + movies[0].upper() + '!!!'           #Creating a variable which contains a concatination of strings and a list that has been capitalized\n",
        "print(message)                                                          #Printing the data stored in my variables to the screen"
      ],
      "metadata": {
        "colab": {
          "base_uri": "https://localhost:8080/"
        },
        "id": "5ZySOM-hPytV",
        "outputId": "c1bb6070-9c3a-4bec-bd43-7a56fa2708ca"
      },
      "execution_count": null,
      "outputs": [
        {
          "output_type": "stream",
          "name": "stdout",
          "text": [
            "My favorite movie is STAR WARS!!!\n"
          ]
        }
      ]
    },
    {
      "cell_type": "code",
      "source": [
        "movies.append('Spooder-man')"
      ],
      "metadata": {
        "id": "VeVtQSOwT7jD"
      },
      "execution_count": null,
      "outputs": []
    },
    {
      "cell_type": "code",
      "source": [
        "movies.append('Big')"
      ],
      "metadata": {
        "id": "wRM5mluLfXbZ"
      },
      "execution_count": null,
      "outputs": []
    },
    {
      "cell_type": "code",
      "source": [
        "movies.append('Matrix')"
      ],
      "metadata": {
        "id": "lb9dOjl3fkuN"
      },
      "execution_count": null,
      "outputs": []
    },
    {
      "cell_type": "code",
      "source": [
        "movies.append('lion king')"
      ],
      "metadata": {
        "id": "6SC6TTkdfnzz"
      },
      "execution_count": null,
      "outputs": []
    },
    {
      "cell_type": "code",
      "source": [
        "movies.append('ready player one')"
      ],
      "metadata": {
        "id": "I-WNB2b3fujT"
      },
      "execution_count": null,
      "outputs": []
    },
    {
      "cell_type": "code",
      "source": [
        "movies"
      ],
      "metadata": {
        "id": "wd2CpndqfyNW",
        "outputId": "2aea2fd1-b71f-4299-a860-ff7289004648",
        "colab": {
          "base_uri": "https://localhost:8080/"
        }
      },
      "execution_count": null,
      "outputs": [
        {
          "output_type": "execute_result",
          "data": {
            "text/plain": [
              "['star wars',\n",
              " 'star trek',\n",
              " 'lord of the rings',\n",
              " 'avengers',\n",
              " 'Spooder-man',\n",
              " 'Big',\n",
              " 'Matrix',\n",
              " 'lion king',\n",
              " 'ready player one']"
            ]
          },
          "metadata": {},
          "execution_count": 16
        }
      ]
    },
    {
      "cell_type": "code",
      "source": [
        ""
      ],
      "metadata": {
        "id": "z9dXwcvNfzqH"
      },
      "execution_count": null,
      "outputs": []
    }
  ]
}
