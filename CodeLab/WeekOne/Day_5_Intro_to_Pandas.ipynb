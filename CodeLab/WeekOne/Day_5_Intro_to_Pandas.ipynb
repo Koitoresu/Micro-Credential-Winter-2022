{
  "nbformat": 4,
  "nbformat_minor": 0,
  "metadata": {
    "colab": {
      "name": "Day 5 - Intro to Pandas.ipynb",
      "provenance": [],
      "authorship_tag": "ABX9TyPiGylXAFNJvs6ypRBWMpYN",
      "include_colab_link": true
    },
    "kernelspec": {
      "name": "python3",
      "display_name": "Python 3"
    },
    "language_info": {
      "name": "python"
    }
  },
  "cells": [
    {
      "cell_type": "markdown",
      "metadata": {
        "id": "view-in-github",
        "colab_type": "text"
      },
      "source": [
        "<a href=\"https://colab.research.google.com/github/Koitoresu/Micro-Credential-Winter-2022/blob/main/Day_5_Intro_to_Pandas.ipynb\" target=\"_parent\"><img src=\"https://colab.research.google.com/assets/colab-badge.svg\" alt=\"Open In Colab\"/></a>"
      ]
    },
    {
      "cell_type": "code",
      "execution_count": 17,
      "metadata": {
        "id": "oltXEveW6Ocv"
      },
      "outputs": [],
      "source": [
        "import numpy as np\n",
        "import pandas as pd\n",
        "from numpy.random import randn\n",
        "np.random.seed(123)"
      ]
    },
    {
      "cell_type": "code",
      "source": [
        "labels = ['a', 'b','c', 'd']\n",
        "my_data = [10, 20, 30, 40]\n",
        "arr = np.array(my_data)\n",
        "d = {'a':10, 'b':20, 'c':30, 'd':40}"
      ],
      "metadata": {
        "id": "T6nr2KLH6Ufo"
      },
      "execution_count": 2,
      "outputs": []
    },
    {
      "cell_type": "code",
      "source": [
        "d"
      ],
      "metadata": {
        "colab": {
          "base_uri": "https://localhost:8080/"
        },
        "id": "Zw7KvLqM6Vwb",
        "outputId": "8e212fd8-9b83-4f58-e099-9fbb55b5e343"
      },
      "execution_count": 3,
      "outputs": [
        {
          "output_type": "execute_result",
          "data": {
            "text/plain": [
              "{'a': 10, 'b': 20, 'c': 30, 'd': 40}"
            ]
          },
          "metadata": {},
          "execution_count": 3
        }
      ]
    },
    {
      "cell_type": "code",
      "source": [
        "pd.Series(data=my_data, index=labels)"
      ],
      "metadata": {
        "colab": {
          "base_uri": "https://localhost:8080/"
        },
        "id": "Kl9X-RJz6XkD",
        "outputId": "53b834c2-ef23-4762-9a3e-f5a56ae58fa9"
      },
      "execution_count": 4,
      "outputs": [
        {
          "output_type": "execute_result",
          "data": {
            "text/plain": [
              "a    10\n",
              "b    20\n",
              "c    30\n",
              "d    40\n",
              "dtype: int64"
            ]
          },
          "metadata": {},
          "execution_count": 4
        }
      ]
    },
    {
      "cell_type": "code",
      "source": [
        "# Create a series of ten cities and years\n",
        "cities = ['New York', 'Tokyo', 'Las Vegas', 'Los Angeles', 'Philidelphia',\n",
        "          'Chicago', 'San Franciso', 'Boston', 'Cincinnati', 'Washington']\n",
        "years = ['1996', '2011', '2017', '2001', '1944',\n",
        "         '2007', '1909', '1947', '1928', '1972']\n",
        "arr = np.array(years)\n",
        "x = {'New York':'1996', 'Tokyo':'2011', 'Las Vegas':'2017', 'Los Angeles':'2001', 'Philidelphia':'1944', \n",
        "        'Chicago':'2007', 'San Franciso':'1909', 'Boston':'1947', 'Cincinnati':'1928', 'Washington':'1972'} "
      ],
      "metadata": {
        "id": "X7ziPgCc6ZRR"
      },
      "execution_count": 27,
      "outputs": []
    },
    {
      "cell_type": "code",
      "source": [
        "x"
      ],
      "metadata": {
        "colab": {
          "base_uri": "https://localhost:8080/"
        },
        "id": "Y2ms4NN_6b3z",
        "outputId": "94de9866-2125-4484-d37b-8b6aff9a202c"
      },
      "execution_count": 28,
      "outputs": [
        {
          "output_type": "execute_result",
          "data": {
            "text/plain": [
              "{'Boston': '1947',\n",
              " 'Chicago': '2007',\n",
              " 'Cincinnati': '1928',\n",
              " 'Las Vegas': '2017',\n",
              " 'Los Angeles': '2001',\n",
              " 'New York': '1996',\n",
              " 'Philidelphia': '1944',\n",
              " 'San Franciso': '1909',\n",
              " 'Tokyo': '2011',\n",
              " 'Washington': '1972'}"
            ]
          },
          "metadata": {},
          "execution_count": 28
        }
      ]
    },
    {
      "cell_type": "code",
      "source": [
        "pd.Series(data=years, index=cities)"
      ],
      "metadata": {
        "colab": {
          "base_uri": "https://localhost:8080/"
        },
        "id": "-YRE9Y5Y-1qh",
        "outputId": "4b506f52-6344-46fe-d9d3-a000453e461a"
      },
      "execution_count": 29,
      "outputs": [
        {
          "output_type": "execute_result",
          "data": {
            "text/plain": [
              "New York        1996\n",
              "Tokyo           2011\n",
              "Las Vegas       2017\n",
              "Los Angeles     2001\n",
              "Philidelphia    1944\n",
              "Chicago         2007\n",
              "San Franciso    1909\n",
              "Boston          1947\n",
              "Cincinnati      1928\n",
              "Washington      1972\n",
              "dtype: object"
            ]
          },
          "metadata": {},
          "execution_count": 29
        }
      ]
    },
    {
      "cell_type": "code",
      "source": [
        "pd.Series(data=cities, index=years)"
      ],
      "metadata": {
        "colab": {
          "base_uri": "https://localhost:8080/"
        },
        "id": "g6uUpgCD--3i",
        "outputId": "a627fed9-bde5-4d5b-8ee7-61d7248c8221"
      },
      "execution_count": 30,
      "outputs": [
        {
          "output_type": "execute_result",
          "data": {
            "text/plain": [
              "1996        New York\n",
              "2011           Tokyo\n",
              "2017       Las Vegas\n",
              "2001     Los Angeles\n",
              "1944    Philidelphia\n",
              "2007         Chicago\n",
              "1909    San Franciso\n",
              "1947          Boston\n",
              "1928      Cincinnati\n",
              "1972      Washington\n",
              "dtype: object"
            ]
          },
          "metadata": {},
          "execution_count": 30
        }
      ]
    },
    {
      "cell_type": "markdown",
      "source": [
        "# Data Frames"
      ],
      "metadata": {
        "id": "IIU4dYU6_Gey"
      }
    },
    {
      "cell_type": "code",
      "source": [
        "data = pd.DataFrame(randn(5, 4), ['A', 'B', 'C', 'D', 'E'], \n",
        "                    ['W', 'X', 'Y', 'Z'])"
      ],
      "metadata": {
        "id": "mVk9dSs3_SQZ"
      },
      "execution_count": 49,
      "outputs": []
    },
    {
      "cell_type": "code",
      "source": [
        "data"
      ],
      "metadata": {
        "colab": {
          "base_uri": "https://localhost:8080/",
          "height": 206
        },
        "id": "xaYrQfjm_SOw",
        "outputId": "fb842a0e-1931-4213-966e-02492cdfb48d"
      },
      "execution_count": 32,
      "outputs": [
        {
          "output_type": "execute_result",
          "data": {
            "text/html": [
              "\n",
              "  <div id=\"df-a9cbc411-00bb-4ab6-b7e9-d4f4093eb384\">\n",
              "    <div class=\"colab-df-container\">\n",
              "      <div>\n",
              "<style scoped>\n",
              "    .dataframe tbody tr th:only-of-type {\n",
              "        vertical-align: middle;\n",
              "    }\n",
              "\n",
              "    .dataframe tbody tr th {\n",
              "        vertical-align: top;\n",
              "    }\n",
              "\n",
              "    .dataframe thead th {\n",
              "        text-align: right;\n",
              "    }\n",
              "</style>\n",
              "<table border=\"1\" class=\"dataframe\">\n",
              "  <thead>\n",
              "    <tr style=\"text-align: right;\">\n",
              "      <th></th>\n",
              "      <th>W</th>\n",
              "      <th>X</th>\n",
              "      <th>Y</th>\n",
              "      <th>Z</th>\n",
              "    </tr>\n",
              "  </thead>\n",
              "  <tbody>\n",
              "    <tr>\n",
              "      <th>A</th>\n",
              "      <td>-0.275786</td>\n",
              "      <td>-0.552108</td>\n",
              "      <td>0.120747</td>\n",
              "      <td>0.748216</td>\n",
              "    </tr>\n",
              "    <tr>\n",
              "      <th>B</th>\n",
              "      <td>1.608691</td>\n",
              "      <td>-0.270232</td>\n",
              "      <td>0.812341</td>\n",
              "      <td>0.499740</td>\n",
              "    </tr>\n",
              "    <tr>\n",
              "      <th>C</th>\n",
              "      <td>0.474347</td>\n",
              "      <td>-0.563924</td>\n",
              "      <td>-0.997321</td>\n",
              "      <td>-1.100043</td>\n",
              "    </tr>\n",
              "    <tr>\n",
              "      <th>D</th>\n",
              "      <td>-0.756437</td>\n",
              "      <td>0.321687</td>\n",
              "      <td>0.760949</td>\n",
              "      <td>0.323469</td>\n",
              "    </tr>\n",
              "    <tr>\n",
              "      <th>E</th>\n",
              "      <td>-0.548955</td>\n",
              "      <td>1.805970</td>\n",
              "      <td>1.518866</td>\n",
              "      <td>-0.354000</td>\n",
              "    </tr>\n",
              "  </tbody>\n",
              "</table>\n",
              "</div>\n",
              "      <button class=\"colab-df-convert\" onclick=\"convertToInteractive('df-a9cbc411-00bb-4ab6-b7e9-d4f4093eb384')\"\n",
              "              title=\"Convert this dataframe to an interactive table.\"\n",
              "              style=\"display:none;\">\n",
              "        \n",
              "  <svg xmlns=\"http://www.w3.org/2000/svg\" height=\"24px\"viewBox=\"0 0 24 24\"\n",
              "       width=\"24px\">\n",
              "    <path d=\"M0 0h24v24H0V0z\" fill=\"none\"/>\n",
              "    <path d=\"M18.56 5.44l.94 2.06.94-2.06 2.06-.94-2.06-.94-.94-2.06-.94 2.06-2.06.94zm-11 1L8.5 8.5l.94-2.06 2.06-.94-2.06-.94L8.5 2.5l-.94 2.06-2.06.94zm10 10l.94 2.06.94-2.06 2.06-.94-2.06-.94-.94-2.06-.94 2.06-2.06.94z\"/><path d=\"M17.41 7.96l-1.37-1.37c-.4-.4-.92-.59-1.43-.59-.52 0-1.04.2-1.43.59L10.3 9.45l-7.72 7.72c-.78.78-.78 2.05 0 2.83L4 21.41c.39.39.9.59 1.41.59.51 0 1.02-.2 1.41-.59l7.78-7.78 2.81-2.81c.8-.78.8-2.07 0-2.86zM5.41 20L4 18.59l7.72-7.72 1.47 1.35L5.41 20z\"/>\n",
              "  </svg>\n",
              "      </button>\n",
              "      \n",
              "  <style>\n",
              "    .colab-df-container {\n",
              "      display:flex;\n",
              "      flex-wrap:wrap;\n",
              "      gap: 12px;\n",
              "    }\n",
              "\n",
              "    .colab-df-convert {\n",
              "      background-color: #E8F0FE;\n",
              "      border: none;\n",
              "      border-radius: 50%;\n",
              "      cursor: pointer;\n",
              "      display: none;\n",
              "      fill: #1967D2;\n",
              "      height: 32px;\n",
              "      padding: 0 0 0 0;\n",
              "      width: 32px;\n",
              "    }\n",
              "\n",
              "    .colab-df-convert:hover {\n",
              "      background-color: #E2EBFA;\n",
              "      box-shadow: 0px 1px 2px rgba(60, 64, 67, 0.3), 0px 1px 3px 1px rgba(60, 64, 67, 0.15);\n",
              "      fill: #174EA6;\n",
              "    }\n",
              "\n",
              "    [theme=dark] .colab-df-convert {\n",
              "      background-color: #3B4455;\n",
              "      fill: #D2E3FC;\n",
              "    }\n",
              "\n",
              "    [theme=dark] .colab-df-convert:hover {\n",
              "      background-color: #434B5C;\n",
              "      box-shadow: 0px 1px 3px 1px rgba(0, 0, 0, 0.15);\n",
              "      filter: drop-shadow(0px 1px 2px rgba(0, 0, 0, 0.3));\n",
              "      fill: #FFFFFF;\n",
              "    }\n",
              "  </style>\n",
              "\n",
              "      <script>\n",
              "        const buttonEl =\n",
              "          document.querySelector('#df-a9cbc411-00bb-4ab6-b7e9-d4f4093eb384 button.colab-df-convert');\n",
              "        buttonEl.style.display =\n",
              "          google.colab.kernel.accessAllowed ? 'block' : 'none';\n",
              "\n",
              "        async function convertToInteractive(key) {\n",
              "          const element = document.querySelector('#df-a9cbc411-00bb-4ab6-b7e9-d4f4093eb384');\n",
              "          const dataTable =\n",
              "            await google.colab.kernel.invokeFunction('convertToInteractive',\n",
              "                                                     [key], {});\n",
              "          if (!dataTable) return;\n",
              "\n",
              "          const docLinkHtml = 'Like what you see? Visit the ' +\n",
              "            '<a target=\"_blank\" href=https://colab.research.google.com/notebooks/data_table.ipynb>data table notebook</a>'\n",
              "            + ' to learn more about interactive tables.';\n",
              "          element.innerHTML = '';\n",
              "          dataTable['output_type'] = 'display_data';\n",
              "          await google.colab.output.renderOutput(dataTable, element);\n",
              "          const docLink = document.createElement('div');\n",
              "          docLink.innerHTML = docLinkHtml;\n",
              "          element.appendChild(docLink);\n",
              "        }\n",
              "      </script>\n",
              "    </div>\n",
              "  </div>\n",
              "  "
            ],
            "text/plain": [
              "          W         X         Y         Z\n",
              "A -0.275786 -0.552108  0.120747  0.748216\n",
              "B  1.608691 -0.270232  0.812341  0.499740\n",
              "C  0.474347 -0.563924 -0.997321 -1.100043\n",
              "D -0.756437  0.321687  0.760949  0.323469\n",
              "E -0.548955  1.805970  1.518866 -0.354000"
            ]
          },
          "metadata": {},
          "execution_count": 32
        }
      ]
    },
    {
      "cell_type": "code",
      "source": [
        "data = pd.DataFrame(randn(10,10), cities, years)"
      ],
      "metadata": {
        "id": "hD_crDlt_SNk"
      },
      "execution_count": 50,
      "outputs": []
    },
    {
      "cell_type": "code",
      "source": [
        "data"
      ],
      "metadata": {
        "colab": {
          "base_uri": "https://localhost:8080/",
          "height": 363
        },
        "id": "ZN8OdilS_SMH",
        "outputId": "4681a227-c0a6-4a41-a2a7-3dd633b0cfa7"
      },
      "execution_count": 51,
      "outputs": [
        {
          "output_type": "execute_result",
          "data": {
            "text/html": [
              "\n",
              "  <div id=\"df-39b0563b-56d2-438d-bb53-f7caab612890\">\n",
              "    <div class=\"colab-df-container\">\n",
              "      <div>\n",
              "<style scoped>\n",
              "    .dataframe tbody tr th:only-of-type {\n",
              "        vertical-align: middle;\n",
              "    }\n",
              "\n",
              "    .dataframe tbody tr th {\n",
              "        vertical-align: top;\n",
              "    }\n",
              "\n",
              "    .dataframe thead th {\n",
              "        text-align: right;\n",
              "    }\n",
              "</style>\n",
              "<table border=\"1\" class=\"dataframe\">\n",
              "  <thead>\n",
              "    <tr style=\"text-align: right;\">\n",
              "      <th></th>\n",
              "      <th>1996</th>\n",
              "      <th>2011</th>\n",
              "      <th>2017</th>\n",
              "      <th>2001</th>\n",
              "      <th>1944</th>\n",
              "      <th>2007</th>\n",
              "      <th>1909</th>\n",
              "      <th>1947</th>\n",
              "      <th>1928</th>\n",
              "      <th>1972</th>\n",
              "    </tr>\n",
              "  </thead>\n",
              "  <tbody>\n",
              "    <tr>\n",
              "      <th>New York</th>\n",
              "      <td>-0.006130</td>\n",
              "      <td>-0.159245</td>\n",
              "      <td>-0.121449</td>\n",
              "      <td>-0.583537</td>\n",
              "      <td>0.990133</td>\n",
              "      <td>-0.353754</td>\n",
              "      <td>0.635943</td>\n",
              "      <td>0.284603</td>\n",
              "      <td>1.218986</td>\n",
              "      <td>0.420180</td>\n",
              "    </tr>\n",
              "    <tr>\n",
              "      <th>Tokyo</th>\n",
              "      <td>-1.213385</td>\n",
              "      <td>-1.326488</td>\n",
              "      <td>1.408369</td>\n",
              "      <td>-0.608711</td>\n",
              "      <td>-1.320603</td>\n",
              "      <td>-0.669619</td>\n",
              "      <td>1.264625</td>\n",
              "      <td>-1.420213</td>\n",
              "      <td>-0.866495</td>\n",
              "      <td>-0.666808</td>\n",
              "    </tr>\n",
              "    <tr>\n",
              "      <th>Las Vegas</th>\n",
              "      <td>-1.251190</td>\n",
              "      <td>-1.184327</td>\n",
              "      <td>-1.518108</td>\n",
              "      <td>-0.461187</td>\n",
              "      <td>-0.354909</td>\n",
              "      <td>-0.682538</td>\n",
              "      <td>-1.653698</td>\n",
              "      <td>1.253336</td>\n",
              "      <td>-1.329079</td>\n",
              "      <td>0.278034</td>\n",
              "    </tr>\n",
              "    <tr>\n",
              "      <th>Los Angeles</th>\n",
              "      <td>-1.074767</td>\n",
              "      <td>0.668317</td>\n",
              "      <td>0.955832</td>\n",
              "      <td>-0.877614</td>\n",
              "      <td>-1.923716</td>\n",
              "      <td>0.695787</td>\n",
              "      <td>1.875801</td>\n",
              "      <td>0.415695</td>\n",
              "      <td>0.160544</td>\n",
              "      <td>0.819761</td>\n",
              "    </tr>\n",
              "    <tr>\n",
              "      <th>Philidelphia</th>\n",
              "      <td>0.765055</td>\n",
              "      <td>-0.828989</td>\n",
              "      <td>-0.659151</td>\n",
              "      <td>0.611124</td>\n",
              "      <td>-0.144013</td>\n",
              "      <td>1.316606</td>\n",
              "      <td>-0.704342</td>\n",
              "      <td>0.750610</td>\n",
              "      <td>0.342638</td>\n",
              "      <td>-0.126438</td>\n",
              "    </tr>\n",
              "    <tr>\n",
              "      <th>Chicago</th>\n",
              "      <td>1.175911</td>\n",
              "      <td>0.680072</td>\n",
              "      <td>-1.004967</td>\n",
              "      <td>0.640219</td>\n",
              "      <td>1.374991</td>\n",
              "      <td>-0.130445</td>\n",
              "      <td>-0.248656</td>\n",
              "      <td>-0.669647</td>\n",
              "      <td>-0.013604</td>\n",
              "      <td>0.686201</td>\n",
              "    </tr>\n",
              "    <tr>\n",
              "      <th>San Franciso</th>\n",
              "      <td>-0.817668</td>\n",
              "      <td>-1.346358</td>\n",
              "      <td>-0.375750</td>\n",
              "      <td>-1.379725</td>\n",
              "      <td>0.523218</td>\n",
              "      <td>-0.426690</td>\n",
              "      <td>-1.755402</td>\n",
              "      <td>-0.348608</td>\n",
              "      <td>-0.192615</td>\n",
              "      <td>0.449136</td>\n",
              "    </tr>\n",
              "    <tr>\n",
              "      <th>Boston</th>\n",
              "      <td>-0.145364</td>\n",
              "      <td>1.868726</td>\n",
              "      <td>-0.518704</td>\n",
              "      <td>-0.062399</td>\n",
              "      <td>-0.102911</td>\n",
              "      <td>-0.282628</td>\n",
              "      <td>0.142426</td>\n",
              "      <td>0.541231</td>\n",
              "      <td>1.340099</td>\n",
              "      <td>-1.569256</td>\n",
              "    </tr>\n",
              "    <tr>\n",
              "      <th>Cincinnati</th>\n",
              "      <td>-0.510343</td>\n",
              "      <td>-0.447771</td>\n",
              "      <td>0.937850</td>\n",
              "      <td>-0.356663</td>\n",
              "      <td>-1.895176</td>\n",
              "      <td>0.087730</td>\n",
              "      <td>-0.033689</td>\n",
              "      <td>0.179752</td>\n",
              "      <td>-1.040163</td>\n",
              "      <td>1.719035</td>\n",
              "    </tr>\n",
              "    <tr>\n",
              "      <th>Washington</th>\n",
              "      <td>-0.323860</td>\n",
              "      <td>-0.188297</td>\n",
              "      <td>-0.900009</td>\n",
              "      <td>-0.931002</td>\n",
              "      <td>-1.222737</td>\n",
              "      <td>-0.393311</td>\n",
              "      <td>-0.957582</td>\n",
              "      <td>2.056467</td>\n",
              "      <td>-1.888492</td>\n",
              "      <td>-1.128331</td>\n",
              "    </tr>\n",
              "  </tbody>\n",
              "</table>\n",
              "</div>\n",
              "      <button class=\"colab-df-convert\" onclick=\"convertToInteractive('df-39b0563b-56d2-438d-bb53-f7caab612890')\"\n",
              "              title=\"Convert this dataframe to an interactive table.\"\n",
              "              style=\"display:none;\">\n",
              "        \n",
              "  <svg xmlns=\"http://www.w3.org/2000/svg\" height=\"24px\"viewBox=\"0 0 24 24\"\n",
              "       width=\"24px\">\n",
              "    <path d=\"M0 0h24v24H0V0z\" fill=\"none\"/>\n",
              "    <path d=\"M18.56 5.44l.94 2.06.94-2.06 2.06-.94-2.06-.94-.94-2.06-.94 2.06-2.06.94zm-11 1L8.5 8.5l.94-2.06 2.06-.94-2.06-.94L8.5 2.5l-.94 2.06-2.06.94zm10 10l.94 2.06.94-2.06 2.06-.94-2.06-.94-.94-2.06-.94 2.06-2.06.94z\"/><path d=\"M17.41 7.96l-1.37-1.37c-.4-.4-.92-.59-1.43-.59-.52 0-1.04.2-1.43.59L10.3 9.45l-7.72 7.72c-.78.78-.78 2.05 0 2.83L4 21.41c.39.39.9.59 1.41.59.51 0 1.02-.2 1.41-.59l7.78-7.78 2.81-2.81c.8-.78.8-2.07 0-2.86zM5.41 20L4 18.59l7.72-7.72 1.47 1.35L5.41 20z\"/>\n",
              "  </svg>\n",
              "      </button>\n",
              "      \n",
              "  <style>\n",
              "    .colab-df-container {\n",
              "      display:flex;\n",
              "      flex-wrap:wrap;\n",
              "      gap: 12px;\n",
              "    }\n",
              "\n",
              "    .colab-df-convert {\n",
              "      background-color: #E8F0FE;\n",
              "      border: none;\n",
              "      border-radius: 50%;\n",
              "      cursor: pointer;\n",
              "      display: none;\n",
              "      fill: #1967D2;\n",
              "      height: 32px;\n",
              "      padding: 0 0 0 0;\n",
              "      width: 32px;\n",
              "    }\n",
              "\n",
              "    .colab-df-convert:hover {\n",
              "      background-color: #E2EBFA;\n",
              "      box-shadow: 0px 1px 2px rgba(60, 64, 67, 0.3), 0px 1px 3px 1px rgba(60, 64, 67, 0.15);\n",
              "      fill: #174EA6;\n",
              "    }\n",
              "\n",
              "    [theme=dark] .colab-df-convert {\n",
              "      background-color: #3B4455;\n",
              "      fill: #D2E3FC;\n",
              "    }\n",
              "\n",
              "    [theme=dark] .colab-df-convert:hover {\n",
              "      background-color: #434B5C;\n",
              "      box-shadow: 0px 1px 3px 1px rgba(0, 0, 0, 0.15);\n",
              "      filter: drop-shadow(0px 1px 2px rgba(0, 0, 0, 0.3));\n",
              "      fill: #FFFFFF;\n",
              "    }\n",
              "  </style>\n",
              "\n",
              "      <script>\n",
              "        const buttonEl =\n",
              "          document.querySelector('#df-39b0563b-56d2-438d-bb53-f7caab612890 button.colab-df-convert');\n",
              "        buttonEl.style.display =\n",
              "          google.colab.kernel.accessAllowed ? 'block' : 'none';\n",
              "\n",
              "        async function convertToInteractive(key) {\n",
              "          const element = document.querySelector('#df-39b0563b-56d2-438d-bb53-f7caab612890');\n",
              "          const dataTable =\n",
              "            await google.colab.kernel.invokeFunction('convertToInteractive',\n",
              "                                                     [key], {});\n",
              "          if (!dataTable) return;\n",
              "\n",
              "          const docLinkHtml = 'Like what you see? Visit the ' +\n",
              "            '<a target=\"_blank\" href=https://colab.research.google.com/notebooks/data_table.ipynb>data table notebook</a>'\n",
              "            + ' to learn more about interactive tables.';\n",
              "          element.innerHTML = '';\n",
              "          dataTable['output_type'] = 'display_data';\n",
              "          await google.colab.output.renderOutput(dataTable, element);\n",
              "          const docLink = document.createElement('div');\n",
              "          docLink.innerHTML = docLinkHtml;\n",
              "          element.appendChild(docLink);\n",
              "        }\n",
              "      </script>\n",
              "    </div>\n",
              "  </div>\n",
              "  "
            ],
            "text/plain": [
              "                  1996      2011      2017  ...      1947      1928      1972\n",
              "New York     -0.006130 -0.159245 -0.121449  ...  0.284603  1.218986  0.420180\n",
              "Tokyo        -1.213385 -1.326488  1.408369  ... -1.420213 -0.866495 -0.666808\n",
              "Las Vegas    -1.251190 -1.184327 -1.518108  ...  1.253336 -1.329079  0.278034\n",
              "Los Angeles  -1.074767  0.668317  0.955832  ...  0.415695  0.160544  0.819761\n",
              "Philidelphia  0.765055 -0.828989 -0.659151  ...  0.750610  0.342638 -0.126438\n",
              "Chicago       1.175911  0.680072 -1.004967  ... -0.669647 -0.013604  0.686201\n",
              "San Franciso -0.817668 -1.346358 -0.375750  ... -0.348608 -0.192615  0.449136\n",
              "Boston       -0.145364  1.868726 -0.518704  ...  0.541231  1.340099 -1.569256\n",
              "Cincinnati   -0.510343 -0.447771  0.937850  ...  0.179752 -1.040163  1.719035\n",
              "Washington   -0.323860 -0.188297 -0.900009  ...  2.056467 -1.888492 -1.128331\n",
              "\n",
              "[10 rows x 10 columns]"
            ]
          },
          "metadata": {},
          "execution_count": 51
        }
      ]
    },
    {
      "cell_type": "code",
      "source": [
        "select1996 = data['1996']"
      ],
      "metadata": {
        "id": "iMUJ9van_SKP"
      },
      "execution_count": 39,
      "outputs": []
    },
    {
      "cell_type": "code",
      "source": [
        "select1996"
      ],
      "metadata": {
        "colab": {
          "base_uri": "https://localhost:8080/"
        },
        "id": "6WdDQ-sR_SIQ",
        "outputId": "cf738507-e2d2-44c1-db67-647212f43750"
      },
      "execution_count": 40,
      "outputs": [
        {
          "output_type": "execute_result",
          "data": {
            "text/plain": [
              "New York       -0.823431\n",
              "Tokyo           0.253816\n",
              "Las Vegas       0.020316\n",
              "Los Angeles    -1.048992\n",
              "Philidelphia    0.093461\n",
              "Chicago         0.177192\n",
              "San Franciso    0.703310\n",
              "Boston          0.579542\n",
              "Cincinnati     -1.255669\n",
              "Washington     -1.600441\n",
              "Name: 1996, dtype: float64"
            ]
          },
          "metadata": {},
          "execution_count": 40
        }
      ]
    },
    {
      "cell_type": "code",
      "source": [
        "select2011 = data['2011']"
      ],
      "metadata": {
        "id": "ZP7poBun_SGa"
      },
      "execution_count": 41,
      "outputs": []
    },
    {
      "cell_type": "code",
      "source": [
        "select2011"
      ],
      "metadata": {
        "colab": {
          "base_uri": "https://localhost:8080/"
        },
        "id": "6PkC7gZY_SEZ",
        "outputId": "f606f637-cc9b-4c34-8b92-e7a56665fd73"
      },
      "execution_count": 42,
      "outputs": [
        {
          "output_type": "execute_result",
          "data": {
            "text/plain": [
              "New York        0.130215\n",
              "Tokyo           0.283725\n",
              "Las Vegas      -0.193964\n",
              "Los Angeles    -0.075121\n",
              "Philidelphia    1.459589\n",
              "Chicago        -0.029968\n",
              "San Franciso   -0.598105\n",
              "Boston          0.579690\n",
              "Cincinnati     -0.551937\n",
              "Washington      0.753869\n",
              "Name: 2011, dtype: float64"
            ]
          },
          "metadata": {},
          "execution_count": 42
        }
      ]
    },
    {
      "cell_type": "code",
      "source": [
        "select2017 = data['2017']"
      ],
      "metadata": {
        "id": "h7u_NLuV_SCd"
      },
      "execution_count": 43,
      "outputs": []
    },
    {
      "cell_type": "code",
      "source": [
        "select2017"
      ],
      "metadata": {
        "colab": {
          "base_uri": "https://localhost:8080/"
        },
        "id": "j6nsPK5x_SAJ",
        "outputId": "7b58a429-8004-47ab-e7c8-b3ec3eb1da3b"
      },
      "execution_count": 44,
      "outputs": [
        {
          "output_type": "execute_result",
          "data": {
            "text/plain": [
              "New York        1.267299\n",
              "Tokyo          -1.411889\n",
              "Las Vegas       0.134027\n",
              "Los Angeles    -0.740814\n",
              "Philidelphia    1.395353\n",
              "Chicago         0.199582\n",
              "San Franciso    2.200702\n",
              "Boston         -0.274878\n",
              "Cincinnati     -0.245203\n",
              "Washington     -0.246816\n",
              "Name: 2017, dtype: float64"
            ]
          },
          "metadata": {},
          "execution_count": 44
        }
      ]
    },
    {
      "cell_type": "code",
      "source": [
        "select1944 = data['1944']"
      ],
      "metadata": {
        "id": "SpV316OuDS6H"
      },
      "execution_count": 45,
      "outputs": []
    },
    {
      "cell_type": "code",
      "source": [
        "select1944"
      ],
      "metadata": {
        "colab": {
          "base_uri": "https://localhost:8080/"
        },
        "id": "4nJGSECJDXdP",
        "outputId": "d3557bf6-920b-427a-a6e5-a1e4b4564a6c"
      },
      "execution_count": 46,
      "outputs": [
        {
          "output_type": "execute_result",
          "data": {
            "text/plain": [
              "New York        0.556549\n",
              "Tokyo          -1.019655\n",
              "Las Vegas       0.665653\n",
              "Los Angeles     0.403086\n",
              "Philidelphia   -0.548642\n",
              "Chicago         0.197019\n",
              "San Franciso   -0.006307\n",
              "Boston         -0.669103\n",
              "Cincinnati      0.956602\n",
              "Washington      0.322577\n",
              "Name: 1944, dtype: float64"
            ]
          },
          "metadata": {},
          "execution_count": 46
        }
      ]
    },
    {
      "cell_type": "code",
      "source": [
        "data['new'] = data['1909'] + data['1972']"
      ],
      "metadata": {
        "id": "g7rr4QR6DYVn"
      },
      "execution_count": 52,
      "outputs": []
    },
    {
      "cell_type": "markdown",
      "source": [
        "# Create a new colunm with the combination of 3 columns from our dataset"
      ],
      "metadata": {
        "id": "DvEt5ZsHD87x"
      }
    },
    {
      "cell_type": "code",
      "source": [
        "data"
      ],
      "metadata": {
        "colab": {
          "base_uri": "https://localhost:8080/",
          "height": 363
        },
        "id": "OBNkGYRtDfaY",
        "outputId": "78aee21f-4100-4197-8ccd-7c5b4597e88b"
      },
      "execution_count": 53,
      "outputs": [
        {
          "output_type": "execute_result",
          "data": {
            "text/html": [
              "\n",
              "  <div id=\"df-6dc92d58-24e5-402c-a4b2-f8ca1e613100\">\n",
              "    <div class=\"colab-df-container\">\n",
              "      <div>\n",
              "<style scoped>\n",
              "    .dataframe tbody tr th:only-of-type {\n",
              "        vertical-align: middle;\n",
              "    }\n",
              "\n",
              "    .dataframe tbody tr th {\n",
              "        vertical-align: top;\n",
              "    }\n",
              "\n",
              "    .dataframe thead th {\n",
              "        text-align: right;\n",
              "    }\n",
              "</style>\n",
              "<table border=\"1\" class=\"dataframe\">\n",
              "  <thead>\n",
              "    <tr style=\"text-align: right;\">\n",
              "      <th></th>\n",
              "      <th>1996</th>\n",
              "      <th>2011</th>\n",
              "      <th>2017</th>\n",
              "      <th>2001</th>\n",
              "      <th>1944</th>\n",
              "      <th>2007</th>\n",
              "      <th>1909</th>\n",
              "      <th>1947</th>\n",
              "      <th>1928</th>\n",
              "      <th>1972</th>\n",
              "      <th>new</th>\n",
              "    </tr>\n",
              "  </thead>\n",
              "  <tbody>\n",
              "    <tr>\n",
              "      <th>New York</th>\n",
              "      <td>-0.006130</td>\n",
              "      <td>-0.159245</td>\n",
              "      <td>-0.121449</td>\n",
              "      <td>-0.583537</td>\n",
              "      <td>0.990133</td>\n",
              "      <td>-0.353754</td>\n",
              "      <td>0.635943</td>\n",
              "      <td>0.284603</td>\n",
              "      <td>1.218986</td>\n",
              "      <td>0.420180</td>\n",
              "      <td>1.056122</td>\n",
              "    </tr>\n",
              "    <tr>\n",
              "      <th>Tokyo</th>\n",
              "      <td>-1.213385</td>\n",
              "      <td>-1.326488</td>\n",
              "      <td>1.408369</td>\n",
              "      <td>-0.608711</td>\n",
              "      <td>-1.320603</td>\n",
              "      <td>-0.669619</td>\n",
              "      <td>1.264625</td>\n",
              "      <td>-1.420213</td>\n",
              "      <td>-0.866495</td>\n",
              "      <td>-0.666808</td>\n",
              "      <td>0.597818</td>\n",
              "    </tr>\n",
              "    <tr>\n",
              "      <th>Las Vegas</th>\n",
              "      <td>-1.251190</td>\n",
              "      <td>-1.184327</td>\n",
              "      <td>-1.518108</td>\n",
              "      <td>-0.461187</td>\n",
              "      <td>-0.354909</td>\n",
              "      <td>-0.682538</td>\n",
              "      <td>-1.653698</td>\n",
              "      <td>1.253336</td>\n",
              "      <td>-1.329079</td>\n",
              "      <td>0.278034</td>\n",
              "      <td>-1.375664</td>\n",
              "    </tr>\n",
              "    <tr>\n",
              "      <th>Los Angeles</th>\n",
              "      <td>-1.074767</td>\n",
              "      <td>0.668317</td>\n",
              "      <td>0.955832</td>\n",
              "      <td>-0.877614</td>\n",
              "      <td>-1.923716</td>\n",
              "      <td>0.695787</td>\n",
              "      <td>1.875801</td>\n",
              "      <td>0.415695</td>\n",
              "      <td>0.160544</td>\n",
              "      <td>0.819761</td>\n",
              "      <td>2.695561</td>\n",
              "    </tr>\n",
              "    <tr>\n",
              "      <th>Philidelphia</th>\n",
              "      <td>0.765055</td>\n",
              "      <td>-0.828989</td>\n",
              "      <td>-0.659151</td>\n",
              "      <td>0.611124</td>\n",
              "      <td>-0.144013</td>\n",
              "      <td>1.316606</td>\n",
              "      <td>-0.704342</td>\n",
              "      <td>0.750610</td>\n",
              "      <td>0.342638</td>\n",
              "      <td>-0.126438</td>\n",
              "      <td>-0.830780</td>\n",
              "    </tr>\n",
              "    <tr>\n",
              "      <th>Chicago</th>\n",
              "      <td>1.175911</td>\n",
              "      <td>0.680072</td>\n",
              "      <td>-1.004967</td>\n",
              "      <td>0.640219</td>\n",
              "      <td>1.374991</td>\n",
              "      <td>-0.130445</td>\n",
              "      <td>-0.248656</td>\n",
              "      <td>-0.669647</td>\n",
              "      <td>-0.013604</td>\n",
              "      <td>0.686201</td>\n",
              "      <td>0.437545</td>\n",
              "    </tr>\n",
              "    <tr>\n",
              "      <th>San Franciso</th>\n",
              "      <td>-0.817668</td>\n",
              "      <td>-1.346358</td>\n",
              "      <td>-0.375750</td>\n",
              "      <td>-1.379725</td>\n",
              "      <td>0.523218</td>\n",
              "      <td>-0.426690</td>\n",
              "      <td>-1.755402</td>\n",
              "      <td>-0.348608</td>\n",
              "      <td>-0.192615</td>\n",
              "      <td>0.449136</td>\n",
              "      <td>-1.306266</td>\n",
              "    </tr>\n",
              "    <tr>\n",
              "      <th>Boston</th>\n",
              "      <td>-0.145364</td>\n",
              "      <td>1.868726</td>\n",
              "      <td>-0.518704</td>\n",
              "      <td>-0.062399</td>\n",
              "      <td>-0.102911</td>\n",
              "      <td>-0.282628</td>\n",
              "      <td>0.142426</td>\n",
              "      <td>0.541231</td>\n",
              "      <td>1.340099</td>\n",
              "      <td>-1.569256</td>\n",
              "      <td>-1.426831</td>\n",
              "    </tr>\n",
              "    <tr>\n",
              "      <th>Cincinnati</th>\n",
              "      <td>-0.510343</td>\n",
              "      <td>-0.447771</td>\n",
              "      <td>0.937850</td>\n",
              "      <td>-0.356663</td>\n",
              "      <td>-1.895176</td>\n",
              "      <td>0.087730</td>\n",
              "      <td>-0.033689</td>\n",
              "      <td>0.179752</td>\n",
              "      <td>-1.040163</td>\n",
              "      <td>1.719035</td>\n",
              "      <td>1.685345</td>\n",
              "    </tr>\n",
              "    <tr>\n",
              "      <th>Washington</th>\n",
              "      <td>-0.323860</td>\n",
              "      <td>-0.188297</td>\n",
              "      <td>-0.900009</td>\n",
              "      <td>-0.931002</td>\n",
              "      <td>-1.222737</td>\n",
              "      <td>-0.393311</td>\n",
              "      <td>-0.957582</td>\n",
              "      <td>2.056467</td>\n",
              "      <td>-1.888492</td>\n",
              "      <td>-1.128331</td>\n",
              "      <td>-2.085912</td>\n",
              "    </tr>\n",
              "  </tbody>\n",
              "</table>\n",
              "</div>\n",
              "      <button class=\"colab-df-convert\" onclick=\"convertToInteractive('df-6dc92d58-24e5-402c-a4b2-f8ca1e613100')\"\n",
              "              title=\"Convert this dataframe to an interactive table.\"\n",
              "              style=\"display:none;\">\n",
              "        \n",
              "  <svg xmlns=\"http://www.w3.org/2000/svg\" height=\"24px\"viewBox=\"0 0 24 24\"\n",
              "       width=\"24px\">\n",
              "    <path d=\"M0 0h24v24H0V0z\" fill=\"none\"/>\n",
              "    <path d=\"M18.56 5.44l.94 2.06.94-2.06 2.06-.94-2.06-.94-.94-2.06-.94 2.06-2.06.94zm-11 1L8.5 8.5l.94-2.06 2.06-.94-2.06-.94L8.5 2.5l-.94 2.06-2.06.94zm10 10l.94 2.06.94-2.06 2.06-.94-2.06-.94-.94-2.06-.94 2.06-2.06.94z\"/><path d=\"M17.41 7.96l-1.37-1.37c-.4-.4-.92-.59-1.43-.59-.52 0-1.04.2-1.43.59L10.3 9.45l-7.72 7.72c-.78.78-.78 2.05 0 2.83L4 21.41c.39.39.9.59 1.41.59.51 0 1.02-.2 1.41-.59l7.78-7.78 2.81-2.81c.8-.78.8-2.07 0-2.86zM5.41 20L4 18.59l7.72-7.72 1.47 1.35L5.41 20z\"/>\n",
              "  </svg>\n",
              "      </button>\n",
              "      \n",
              "  <style>\n",
              "    .colab-df-container {\n",
              "      display:flex;\n",
              "      flex-wrap:wrap;\n",
              "      gap: 12px;\n",
              "    }\n",
              "\n",
              "    .colab-df-convert {\n",
              "      background-color: #E8F0FE;\n",
              "      border: none;\n",
              "      border-radius: 50%;\n",
              "      cursor: pointer;\n",
              "      display: none;\n",
              "      fill: #1967D2;\n",
              "      height: 32px;\n",
              "      padding: 0 0 0 0;\n",
              "      width: 32px;\n",
              "    }\n",
              "\n",
              "    .colab-df-convert:hover {\n",
              "      background-color: #E2EBFA;\n",
              "      box-shadow: 0px 1px 2px rgba(60, 64, 67, 0.3), 0px 1px 3px 1px rgba(60, 64, 67, 0.15);\n",
              "      fill: #174EA6;\n",
              "    }\n",
              "\n",
              "    [theme=dark] .colab-df-convert {\n",
              "      background-color: #3B4455;\n",
              "      fill: #D2E3FC;\n",
              "    }\n",
              "\n",
              "    [theme=dark] .colab-df-convert:hover {\n",
              "      background-color: #434B5C;\n",
              "      box-shadow: 0px 1px 3px 1px rgba(0, 0, 0, 0.15);\n",
              "      filter: drop-shadow(0px 1px 2px rgba(0, 0, 0, 0.3));\n",
              "      fill: #FFFFFF;\n",
              "    }\n",
              "  </style>\n",
              "\n",
              "      <script>\n",
              "        const buttonEl =\n",
              "          document.querySelector('#df-6dc92d58-24e5-402c-a4b2-f8ca1e613100 button.colab-df-convert');\n",
              "        buttonEl.style.display =\n",
              "          google.colab.kernel.accessAllowed ? 'block' : 'none';\n",
              "\n",
              "        async function convertToInteractive(key) {\n",
              "          const element = document.querySelector('#df-6dc92d58-24e5-402c-a4b2-f8ca1e613100');\n",
              "          const dataTable =\n",
              "            await google.colab.kernel.invokeFunction('convertToInteractive',\n",
              "                                                     [key], {});\n",
              "          if (!dataTable) return;\n",
              "\n",
              "          const docLinkHtml = 'Like what you see? Visit the ' +\n",
              "            '<a target=\"_blank\" href=https://colab.research.google.com/notebooks/data_table.ipynb>data table notebook</a>'\n",
              "            + ' to learn more about interactive tables.';\n",
              "          element.innerHTML = '';\n",
              "          dataTable['output_type'] = 'display_data';\n",
              "          await google.colab.output.renderOutput(dataTable, element);\n",
              "          const docLink = document.createElement('div');\n",
              "          docLink.innerHTML = docLinkHtml;\n",
              "          element.appendChild(docLink);\n",
              "        }\n",
              "      </script>\n",
              "    </div>\n",
              "  </div>\n",
              "  "
            ],
            "text/plain": [
              "                  1996      2011      2017  ...      1928      1972       new\n",
              "New York     -0.006130 -0.159245 -0.121449  ...  1.218986  0.420180  1.056122\n",
              "Tokyo        -1.213385 -1.326488  1.408369  ... -0.866495 -0.666808  0.597818\n",
              "Las Vegas    -1.251190 -1.184327 -1.518108  ... -1.329079  0.278034 -1.375664\n",
              "Los Angeles  -1.074767  0.668317  0.955832  ...  0.160544  0.819761  2.695561\n",
              "Philidelphia  0.765055 -0.828989 -0.659151  ...  0.342638 -0.126438 -0.830780\n",
              "Chicago       1.175911  0.680072 -1.004967  ... -0.013604  0.686201  0.437545\n",
              "San Franciso -0.817668 -1.346358 -0.375750  ... -0.192615  0.449136 -1.306266\n",
              "Boston       -0.145364  1.868726 -0.518704  ...  1.340099 -1.569256 -1.426831\n",
              "Cincinnati   -0.510343 -0.447771  0.937850  ... -1.040163  1.719035  1.685345\n",
              "Washington   -0.323860 -0.188297 -0.900009  ... -1.888492 -1.128331 -2.085912\n",
              "\n",
              "[10 rows x 11 columns]"
            ]
          },
          "metadata": {},
          "execution_count": 53
        }
      ]
    }
  ]
}
