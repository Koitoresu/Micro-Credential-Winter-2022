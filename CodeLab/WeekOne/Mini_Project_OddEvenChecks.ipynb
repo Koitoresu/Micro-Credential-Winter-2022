{
  "nbformat": 4,
  "nbformat_minor": 0,
  "metadata": {
    "colab": {
      "name": "Mini Project OddEvenChecks.ipynb",
      "provenance": [],
      "authorship_tag": "ABX9TyO/LagwYnNh5r+C15JOHxVx",
      "include_colab_link": true
    },
    "kernelspec": {
      "name": "python3",
      "display_name": "Python 3"
    },
    "language_info": {
      "name": "python"
    }
  },
  "cells": [
    {
      "cell_type": "markdown",
      "metadata": {
        "id": "view-in-github",
        "colab_type": "text"
      },
      "source": [
        "<a href=\"https://colab.research.google.com/github/Koitoresu/Micro-Credential-Winter-2022/blob/main/Mini_Project_OddEvenChecks.ipynb\" target=\"_parent\"><img src=\"https://colab.research.google.com/assets/colab-badge.svg\" alt=\"Open In Colab\"/></a>"
      ]
    },
    {
      "cell_type": "code",
      "execution_count": 6,
      "metadata": {
        "colab": {
          "base_uri": "https://localhost:8080/"
        },
        "id": "w8wI6Usev-sq",
        "outputId": "182d3ac1-ebea-4ab9-e167-a279b053c546"
      },
      "outputs": [
        {
          "output_type": "stream",
          "name": "stdout",
          "text": [
            "Enter an integer for odd/even check: 4\n",
            "Enter an interger for divide check: 2\n",
            "4 is an even number\n",
            "\n",
            "4 is a mulitple of 4\n",
            "\n",
            "4 and 2 divide evenly into each other\n",
            "\n"
          ]
        }
      ],
      "source": [
        "num = int(input('Enter an integer for odd/even check: '))\n",
        "check = int(input('Enter an interger for divide check: '))\n",
        "\n",
        "def oddEvenCheck(x =0,y =0):\n",
        "  if (x % 2) == 0:\n",
        "    print(f'{num} is an even number\\n')\n",
        "    if (x % 4) == 0:\n",
        "      print(f'{x} is a mulitple of 4\\n')\n",
        "  else: \n",
        "    print(f'{num} is an odd number\\n')\n",
        "\n",
        "  if (y != 0):\n",
        "    result = x % y\n",
        "    if result == 0:\n",
        "      print(f'{x} and {y} divide evenly into each other\\n')\n",
        "\n",
        "oddEvenCheck(num, check)"
      ]
    },
    {
      "cell_type": "code",
      "source": [
        ""
      ],
      "metadata": {
        "id": "owFnRjQC6B_o"
      },
      "execution_count": 3,
      "outputs": []
    }
  ]
}
