{
  "nbformat": 4,
  "nbformat_minor": 0,
  "metadata": {
    "colab": {
      "name": "Day 5 - Intro to NumPy.ipynb",
      "provenance": [],
      "authorship_tag": "ABX9TyMLiqkYCpVyOGF7Mc87hsx/",
      "include_colab_link": true
    },
    "kernelspec": {
      "name": "python3",
      "display_name": "Python 3"
    },
    "language_info": {
      "name": "python"
    }
  },
  "cells": [
    {
      "cell_type": "markdown",
      "metadata": {
        "id": "view-in-github",
        "colab_type": "text"
      },
      "source": [
        "<a href=\"https://colab.research.google.com/github/Koitoresu/Micro-Credential-Winter-2022/blob/main/Day_5_Intro_to_NumPy.ipynb\" target=\"_parent\"><img src=\"https://colab.research.google.com/assets/colab-badge.svg\" alt=\"Open In Colab\"/></a>"
      ]
    },
    {
      "cell_type": "markdown",
      "source": [
        "# Intro to NumPy"
      ],
      "metadata": {
        "id": "yUsp5x7G9OLf"
      }
    },
    {
      "cell_type": "code",
      "source": [
        "import numpy as np"
      ],
      "metadata": {
        "id": "1rP79dAR9X6W"
      },
      "execution_count": null,
      "outputs": []
    },
    {
      "cell_type": "code",
      "source": [
        "np_city = np.array(['NYC', 'LA', 'Maimi', 'Houston'])"
      ],
      "metadata": {
        "id": "TMqSALNi9X4G"
      },
      "execution_count": null,
      "outputs": []
    },
    {
      "cell_type": "code",
      "source": [
        "np_city.shape"
      ],
      "metadata": {
        "colab": {
          "base_uri": "https://localhost:8080/"
        },
        "id": "TCT_nW9G9X2K",
        "outputId": "396ede53-dbb9-4911-edbd-8a5a6157966d"
      },
      "execution_count": null,
      "outputs": [
        {
          "output_type": "execute_result",
          "data": {
            "text/plain": [
              "(4,)"
            ]
          },
          "metadata": {},
          "execution_count": 3
        }
      ]
    },
    {
      "cell_type": "code",
      "source": [
        "np_city.size"
      ],
      "metadata": {
        "colab": {
          "base_uri": "https://localhost:8080/"
        },
        "id": "6rPJghP-9Xzo",
        "outputId": "11f08436-1d9c-46c6-a7cc-17e6490daec3"
      },
      "execution_count": null,
      "outputs": [
        {
          "output_type": "execute_result",
          "data": {
            "text/plain": [
              "4"
            ]
          },
          "metadata": {},
          "execution_count": 4
        }
      ]
    },
    {
      "cell_type": "code",
      "source": [
        "np_city.dtype"
      ],
      "metadata": {
        "colab": {
          "base_uri": "https://localhost:8080/"
        },
        "id": "pWlwcOQb9XxP",
        "outputId": "4f4d55fa-7674-4a03-82cb-67d2cb75d15b"
      },
      "execution_count": null,
      "outputs": [
        {
          "output_type": "execute_result",
          "data": {
            "text/plain": [
              "dtype('<U7')"
            ]
          },
          "metadata": {},
          "execution_count": 5
        }
      ]
    },
    {
      "cell_type": "code",
      "source": [
        "np_city2 = np.array([['NYC', 'LA', 'Maimi', 'Houston'], \n",
        "                     ['NY', 'CA', 'FL', 'TX']])"
      ],
      "metadata": {
        "id": "ZIxcMwMV9Xuy"
      },
      "execution_count": null,
      "outputs": []
    },
    {
      "cell_type": "code",
      "source": [
        "np_city2.shape"
      ],
      "metadata": {
        "colab": {
          "base_uri": "https://localhost:8080/"
        },
        "id": "xsKYqozu9XsN",
        "outputId": "4b798de8-0679-4eaa-a2b3-8803bbb28fca"
      },
      "execution_count": null,
      "outputs": [
        {
          "output_type": "execute_result",
          "data": {
            "text/plain": [
              "(2, 4)"
            ]
          },
          "metadata": {},
          "execution_count": 7
        }
      ]
    },
    {
      "cell_type": "code",
      "source": [
        "np_city2.dtype"
      ],
      "metadata": {
        "colab": {
          "base_uri": "https://localhost:8080/"
        },
        "id": "4eafnBTh9XqI",
        "outputId": "1bbd1fb8-c462-439d-d8c9-b28b17934a49"
      },
      "execution_count": null,
      "outputs": [
        {
          "output_type": "execute_result",
          "data": {
            "text/plain": [
              "dtype('<U7')"
            ]
          },
          "metadata": {},
          "execution_count": 10
        }
      ]
    },
    {
      "cell_type": "code",
      "source": [
        "np_city2.size"
      ],
      "metadata": {
        "colab": {
          "base_uri": "https://localhost:8080/"
        },
        "id": "BK14mdyQ9Xnu",
        "outputId": "6708c46f-c919-4b28-bd63-aa4c71288695"
      },
      "execution_count": null,
      "outputs": [
        {
          "output_type": "execute_result",
          "data": {
            "text/plain": [
              "8"
            ]
          },
          "metadata": {},
          "execution_count": 11
        }
      ]
    },
    {
      "cell_type": "code",
      "source": [
        "# Create a np array with 5 lists in it... \n",
        "# each list must have 10 items in it\n",
        "colors = np.array([['Blue', 'Green', 'Yellow', 'Orange', 'Purple', 'Red', 'White', 'Black', 'Brown', 'Pink'],\n",
        "                   ['Blue', 'Green', 'Yellow', 'Orange', 'Purple', 'Red', 'White', 'Black', 'Brown', 'Pink'],\n",
        "                   ['Blue', 'Green', 'Yellow', 'Orange', 'Purple', 'Red', 'White', 'Black', 'Brown', 'Pink'],\n",
        "                   ['Blue', 'Green', 'Yellow', 'Orange', 'Purple', 'Red', 'White', 'Black', 'Brown', 'Pink'],\n",
        "                   ['Blue', 'Green', 'Yellow', 'Orange', 'Purple', 'Red', 'White', 'Black', 'Brown', 'Pink']])"
      ],
      "metadata": {
        "id": "VsFYhyzJ9Xks"
      },
      "execution_count": null,
      "outputs": []
    },
    {
      "cell_type": "code",
      "source": [
        "first_trial_cyclist = [10, 15, 17, 26, 37, 49, 57, 61]"
      ],
      "metadata": {
        "id": "LHLmjKwA9XiX"
      },
      "execution_count": null,
      "outputs": []
    },
    {
      "cell_type": "code",
      "source": [
        "second_trial_cyclist = [11, 45, 65, 24, 23, 45, 90, 99]"
      ],
      "metadata": {
        "id": "ry-m58RO9XgR"
      },
      "execution_count": null,
      "outputs": []
    },
    {
      "cell_type": "code",
      "source": [
        "np_first_trial = np.array(first_trial_cyclist)\n",
        "np_second_trial = np.array(second_trial_cyclist)"
      ],
      "metadata": {
        "id": "VoV45olC9XeQ"
      },
      "execution_count": null,
      "outputs": []
    },
    {
      "cell_type": "code",
      "source": [
        "np_first_trial + np_second_trial"
      ],
      "metadata": {
        "id": "OxVvsWLd9XcB",
        "colab": {
          "base_uri": "https://localhost:8080/"
        },
        "outputId": "ae245a1b-bc1a-43c3-f03a-e3c97300f107"
      },
      "execution_count": null,
      "outputs": [
        {
          "output_type": "execute_result",
          "data": {
            "text/plain": [
              "array([ 21,  60,  82,  50,  60,  94, 147, 160])"
            ]
          },
          "metadata": {},
          "execution_count": 19
        }
      ]
    },
    {
      "cell_type": "code",
      "source": [
        "np_first_trial[1] * np_second_trial[5]"
      ],
      "metadata": {
        "id": "BUWYmtbs9XZb",
        "colab": {
          "base_uri": "https://localhost:8080/"
        },
        "outputId": "704ac138-6ee5-44ad-921d-7e70177edce4"
      },
      "execution_count": null,
      "outputs": [
        {
          "output_type": "execute_result",
          "data": {
            "text/plain": [
              "675"
            ]
          },
          "metadata": {},
          "execution_count": 21
        }
      ]
    },
    {
      "cell_type": "code",
      "source": [
        "cyclist_trial = np.array([[10, 15, 17, 26],[12, 11, 21, 24]])"
      ],
      "metadata": {
        "id": "vutrKyYc9XXA"
      },
      "execution_count": null,
      "outputs": []
    },
    {
      "cell_type": "code",
      "source": [
        "cyclist_trial"
      ],
      "metadata": {
        "colab": {
          "base_uri": "https://localhost:8080/"
        },
        "id": "T-egTWakBz3F",
        "outputId": "5541cc99-7c09-4926-91e8-f1cbbf35c549"
      },
      "execution_count": null,
      "outputs": [
        {
          "output_type": "execute_result",
          "data": {
            "text/plain": [
              "array([[10, 15, 17, 26],\n",
              "       [12, 11, 21, 24]])"
            ]
          },
          "metadata": {},
          "execution_count": 25
        }
      ]
    },
    {
      "cell_type": "code",
      "source": [
        "ftrail = cyclist_trial[0]"
      ],
      "metadata": {
        "id": "k-qO56at9XUs"
      },
      "execution_count": null,
      "outputs": []
    },
    {
      "cell_type": "code",
      "source": [
        "ftrail"
      ],
      "metadata": {
        "id": "eApLwN-o9XSr",
        "colab": {
          "base_uri": "https://localhost:8080/"
        },
        "outputId": "9ac792c1-9e5d-49cf-f538-6e6d3adee1e6"
      },
      "execution_count": null,
      "outputs": [
        {
          "output_type": "execute_result",
          "data": {
            "text/plain": [
              "array([10, 15, 17, 26])"
            ]
          },
          "metadata": {},
          "execution_count": 27
        }
      ]
    },
    {
      "cell_type": "code",
      "source": [
        "newlist = ['string1', 'string2']"
      ],
      "metadata": {
        "id": "x_mfC2YBB4PJ"
      },
      "execution_count": null,
      "outputs": []
    },
    {
      "cell_type": "code",
      "source": [
        "newlist[0]"
      ],
      "metadata": {
        "colab": {
          "base_uri": "https://localhost:8080/",
          "height": 35
        },
        "id": "QCUwnKwqB6s2",
        "outputId": "3b1ce5b1-bd44-4477-97e1-e4832a3fa540"
      },
      "execution_count": null,
      "outputs": [
        {
          "output_type": "execute_result",
          "data": {
            "application/vnd.google.colaboratory.intrinsic+json": {
              "type": "string"
            },
            "text/plain": [
              "'string1'"
            ]
          },
          "metadata": {},
          "execution_count": 29
        }
      ]
    },
    {
      "cell_type": "code",
      "source": [
        "newlist[0][2]"
      ],
      "metadata": {
        "colab": {
          "base_uri": "https://localhost:8080/",
          "height": 35
        },
        "id": "GlHBStAeB8Ce",
        "outputId": "cab4bf59-f3cd-4034-c3af-46f3cd0bcd0f"
      },
      "execution_count": null,
      "outputs": [
        {
          "output_type": "execute_result",
          "data": {
            "application/vnd.google.colaboratory.intrinsic+json": {
              "type": "string"
            },
            "text/plain": [
              "'r'"
            ]
          },
          "metadata": {},
          "execution_count": 30
        }
      ]
    },
    {
      "cell_type": "code",
      "source": [
        "strail = cyclist_trial[1]"
      ],
      "metadata": {
        "id": "hdDCXvjrB9lL"
      },
      "execution_count": null,
      "outputs": []
    },
    {
      "cell_type": "code",
      "source": [
        "strail"
      ],
      "metadata": {
        "colab": {
          "base_uri": "https://localhost:8080/"
        },
        "id": "8gtF9nksCBnC",
        "outputId": "f340866d-23e1-4db6-9bbc-f48218953c7e"
      },
      "execution_count": null,
      "outputs": [
        {
          "output_type": "execute_result",
          "data": {
            "text/plain": [
              "array([12, 11, 21, 24])"
            ]
          },
          "metadata": {},
          "execution_count": 32
        }
      ]
    },
    {
      "cell_type": "code",
      "source": [
        "ftrail[1] # this is the same as saying "
      ],
      "metadata": {
        "colab": {
          "base_uri": "https://localhost:8080/"
        },
        "id": "29WIDd9FCC6O",
        "outputId": "4114a6b8-670e-4508-eb4b-97999be9d2c1"
      },
      "execution_count": null,
      "outputs": [
        {
          "output_type": "execute_result",
          "data": {
            "text/plain": [
              "15"
            ]
          },
          "metadata": {},
          "execution_count": 33
        }
      ]
    },
    {
      "cell_type": "code",
      "source": [
        "cyclist_trial[0][1]"
      ],
      "metadata": {
        "colab": {
          "base_uri": "https://localhost:8080/"
        },
        "id": "9plnvicOCE-8",
        "outputId": "4978b500-da4e-4aac-d80c-76e65f317c42"
      },
      "execution_count": null,
      "outputs": [
        {
          "output_type": "execute_result",
          "data": {
            "text/plain": [
              "15"
            ]
          },
          "metadata": {},
          "execution_count": 34
        }
      ]
    },
    {
      "cell_type": "code",
      "source": [
        "test_score = np.array([[83, 71, 67, 63],[54,68,81,45]])"
      ],
      "metadata": {
        "id": "NV0ERVGiCO06"
      },
      "execution_count": null,
      "outputs": []
    },
    {
      "cell_type": "code",
      "source": [
        "passed = test_score > 60"
      ],
      "metadata": {
        "id": "bU1zhmJ2CRqF"
      },
      "execution_count": null,
      "outputs": []
    },
    {
      "cell_type": "code",
      "source": [
        "passed"
      ],
      "metadata": {
        "colab": {
          "base_uri": "https://localhost:8080/"
        },
        "id": "L27cKiwaCTZS",
        "outputId": "d4c57c85-1033-46d9-e72b-94b7c2f965f6"
      },
      "execution_count": null,
      "outputs": [
        {
          "output_type": "execute_result",
          "data": {
            "text/plain": [
              "array([[ True,  True,  True,  True],\n",
              "       [False,  True,  True, False]])"
            ]
          },
          "metadata": {},
          "execution_count": 38
        }
      ]
    },
    {
      "cell_type": "code",
      "source": [
        "test2_scores = test_score"
      ],
      "metadata": {
        "id": "gN7ZX5yFCWnC"
      },
      "execution_count": null,
      "outputs": []
    },
    {
      "cell_type": "code",
      "source": [
        "test_score is test2_scores"
      ],
      "metadata": {
        "colab": {
          "base_uri": "https://localhost:8080/"
        },
        "id": "8EEr0iZWGXSI",
        "outputId": "6ae11d5a-46de-412f-bc0e-ad3128a06e6d"
      },
      "execution_count": null,
      "outputs": [
        {
          "output_type": "execute_result",
          "data": {
            "text/plain": [
              "True"
            ]
          },
          "metadata": {},
          "execution_count": 40
        }
      ]
    },
    {
      "cell_type": "code",
      "source": [
        "test2_scores[1][3] = 78"
      ],
      "metadata": {
        "id": "NtoQI16YGY9x"
      },
      "execution_count": null,
      "outputs": []
    },
    {
      "cell_type": "code",
      "source": [
        "test2_scores"
      ],
      "metadata": {
        "colab": {
          "base_uri": "https://localhost:8080/"
        },
        "id": "MQ4Sh5k1GaoG",
        "outputId": "5358ad2b-c0f8-4a26-9af4-6e0b314e808d"
      },
      "execution_count": null,
      "outputs": [
        {
          "output_type": "execute_result",
          "data": {
            "text/plain": [
              "array([[83, 71, 67, 63],\n",
              "       [54, 68, 81, 78]])"
            ]
          },
          "metadata": {},
          "execution_count": 42
        }
      ]
    },
    {
      "cell_type": "code",
      "source": [
        "test_score"
      ],
      "metadata": {
        "colab": {
          "base_uri": "https://localhost:8080/"
        },
        "id": "G4pbURjsGcxn",
        "outputId": "5c993dce-7ac3-47b1-9683-5e968492e22b"
      },
      "execution_count": null,
      "outputs": [
        {
          "output_type": "execute_result",
          "data": {
            "text/plain": [
              "array([[83, 71, 67, 63],\n",
              "       [54, 68, 81, 78]])"
            ]
          },
          "metadata": {},
          "execution_count": 43
        }
      ]
    },
    {
      "cell_type": "code",
      "source": [
        "NYC_Boroughs = np.array(['Manhattan', 'Brooklyn', 'Queens', 'Bronx', 'Staten Island'])"
      ],
      "metadata": {
        "id": "SAQzei15GcvY"
      },
      "execution_count": null,
      "outputs": []
    },
    {
      "cell_type": "code",
      "source": [
        "NYC_Boroughs"
      ],
      "metadata": {
        "colab": {
          "base_uri": "https://localhost:8080/"
        },
        "id": "EaIR-MENGctL",
        "outputId": "2822fd69-27d0-41cb-a871-cc0159c303fd"
      },
      "execution_count": null,
      "outputs": [
        {
          "output_type": "execute_result",
          "data": {
            "text/plain": [
              "array(['Manhattan', 'Brooklyn', 'Queens', 'Bronx', 'Staten Island'],\n",
              "      dtype='<U13')"
            ]
          },
          "metadata": {},
          "execution_count": 45
        }
      ]
    },
    {
      "cell_type": "code",
      "source": [
        "NY_Boroughs = NYC_Boroughs.view()"
      ],
      "metadata": {
        "id": "WDDjW35YGcq6"
      },
      "execution_count": null,
      "outputs": []
    },
    {
      "cell_type": "code",
      "source": [
        "len(NY_Boroughs)"
      ],
      "metadata": {
        "colab": {
          "base_uri": "https://localhost:8080/"
        },
        "id": "PKDwgibVGcos",
        "outputId": "80a6c00e-1de7-4cfa-83b9-0175fc5e784f"
      },
      "execution_count": null,
      "outputs": [
        {
          "output_type": "execute_result",
          "data": {
            "text/plain": [
              "5"
            ]
          },
          "metadata": {},
          "execution_count": 47
        }
      ]
    },
    {
      "cell_type": "code",
      "source": [
        "NY_Boroughs[4] = 'Central Park'"
      ],
      "metadata": {
        "id": "fHkCFeodGcmH"
      },
      "execution_count": null,
      "outputs": []
    },
    {
      "cell_type": "code",
      "source": [
        "len(NY_Boroughs)"
      ],
      "metadata": {
        "colab": {
          "base_uri": "https://localhost:8080/"
        },
        "id": "Z5yb-8ZoGcjc",
        "outputId": "c35bcf1f-543b-4139-95f2-91ad348fe831"
      },
      "execution_count": null,
      "outputs": [
        {
          "output_type": "execute_result",
          "data": {
            "text/plain": [
              "5"
            ]
          },
          "metadata": {},
          "execution_count": 49
        }
      ]
    },
    {
      "cell_type": "code",
      "source": [
        "NY_Boroughs"
      ],
      "metadata": {
        "colab": {
          "base_uri": "https://localhost:8080/"
        },
        "id": "p996MqUsGcg0",
        "outputId": "1dbc5bd3-49bd-4e64-9f85-0abb9903f5d9"
      },
      "execution_count": null,
      "outputs": [
        {
          "output_type": "execute_result",
          "data": {
            "text/plain": [
              "array(['Manhattan', 'Brooklyn', 'Queens', 'Bronx', 'Central Park'],\n",
              "      dtype='<U13')"
            ]
          },
          "metadata": {},
          "execution_count": 50
        }
      ]
    },
    {
      "cell_type": "code",
      "source": [
        "NYC_Boroughs is NY_Boroughs"
      ],
      "metadata": {
        "colab": {
          "base_uri": "https://localhost:8080/"
        },
        "id": "30Py636WGcaL",
        "outputId": "dfb7cd49-4d77-4b63-dfa7-a2d4b967e5ce"
      },
      "execution_count": null,
      "outputs": [
        {
          "output_type": "execute_result",
          "data": {
            "text/plain": [
              "False"
            ]
          },
          "metadata": {},
          "execution_count": 51
        }
      ]
    },
    {
      "cell_type": "code",
      "source": [
        "NYC = NYC_Boroughs.copy()"
      ],
      "metadata": {
        "id": "2-duT7PeGcXt"
      },
      "execution_count": null,
      "outputs": []
    },
    {
      "cell_type": "code",
      "source": [
        "NYC is NYC_Boroughs"
      ],
      "metadata": {
        "colab": {
          "base_uri": "https://localhost:8080/"
        },
        "id": "uGwu0o1LGcVn",
        "outputId": "3d5ee131-721d-4e6a-ed48-0c79e00e0cbc"
      },
      "execution_count": null,
      "outputs": [
        {
          "output_type": "execute_result",
          "data": {
            "text/plain": [
              "False"
            ]
          },
          "metadata": {},
          "execution_count": 53
        }
      ]
    },
    {
      "cell_type": "code",
      "source": [
        "NYC[4] = 'Astoria'"
      ],
      "metadata": {
        "id": "-6etO25kGcSv"
      },
      "execution_count": null,
      "outputs": []
    },
    {
      "cell_type": "code",
      "source": [
        "NYC_Boroughs"
      ],
      "metadata": {
        "colab": {
          "base_uri": "https://localhost:8080/"
        },
        "id": "YlhW19IiG2FE",
        "outputId": "4cfe2f86-5ac2-4807-9c0d-ae95c5976aa9"
      },
      "execution_count": null,
      "outputs": [
        {
          "output_type": "execute_result",
          "data": {
            "text/plain": [
              "array(['Manhattan', 'Brooklyn', 'Queens', 'Bronx', 'Central Park'],\n",
              "      dtype='<U13')"
            ]
          },
          "metadata": {},
          "execution_count": 55
        }
      ]
    },
    {
      "cell_type": "code",
      "source": [
        "NYC"
      ],
      "metadata": {
        "colab": {
          "base_uri": "https://localhost:8080/"
        },
        "id": "DavJzTSTG3Za",
        "outputId": "9bfc6877-1561-4fcd-e081-87e8667aedac"
      },
      "execution_count": null,
      "outputs": [
        {
          "output_type": "execute_result",
          "data": {
            "text/plain": [
              "array(['Manhattan', 'Brooklyn', 'Queens', 'Bronx', 'Astoria'],\n",
              "      dtype='<U13')"
            ]
          },
          "metadata": {},
          "execution_count": 56
        }
      ]
    },
    {
      "cell_type": "code",
      "source": [
        ""
      ],
      "metadata": {
        "id": "Mt8giYppR46q"
      },
      "execution_count": null,
      "outputs": []
    }
  ]
}