{
  "nbformat": 4,
  "nbformat_minor": 0,
  "metadata": {
    "colab": {
      "name": "Day 3 Collection Data Types - Dictionaries.ipynb",
      "provenance": [],
      "collapsed_sections": [],
      "authorship_tag": "ABX9TyMKV0RwKIq6F/IPmuh0mr7r",
      "include_colab_link": true
    },
    "kernelspec": {
      "name": "python3",
      "display_name": "Python 3"
    },
    "language_info": {
      "name": "python"
    }
  },
  "cells": [
    {
      "cell_type": "markdown",
      "metadata": {
        "id": "view-in-github",
        "colab_type": "text"
      },
      "source": [
        "<a href=\"https://colab.research.google.com/github/Koitoresu/Micro-Credential-Winter-2022/blob/main/Day_3_Collection_Data_Types_Dictionaries.ipynb\" target=\"_parent\"><img src=\"https://colab.research.google.com/assets/colab-badge.svg\" alt=\"Open In Colab\"/></a>"
      ]
    },
    {
      "cell_type": "markdown",
      "source": [
        "# Collection Data Types  "
      ],
      "metadata": {
        "id": "yrtM-I6Gsb1G"
      }
    },
    {
      "cell_type": "markdown",
      "source": [
        "# Dictionaries"
      ],
      "metadata": {
        "id": "JXW7Wp1V1Bk6"
      }
    },
    {
      "cell_type": "code",
      "source": [
        "patient_1 = {'first_name': 'John', 'last_name': 'Kimble'}"
      ],
      "metadata": {
        "id": "sL1DOvwUsjaR"
      },
      "execution_count": null,
      "outputs": []
    },
    {
      "cell_type": "code",
      "source": [
        "print(patient_1['first_name'])"
      ],
      "metadata": {
        "colab": {
          "base_uri": "https://localhost:8080/"
        },
        "id": "3ay4Okqczbmk",
        "outputId": "d746b371-53ba-4370-dece-cd24fc544d8b"
      },
      "execution_count": null,
      "outputs": [
        {
          "output_type": "stream",
          "name": "stdout",
          "text": [
            "John\n"
          ]
        }
      ]
    },
    {
      "cell_type": "code",
      "source": [
        "print(patient_1['last_name'])"
      ],
      "metadata": {
        "colab": {
          "base_uri": "https://localhost:8080/"
        },
        "id": "yp2d1MJYzozU",
        "outputId": "7083890f-3433-4079-cf70-d35a26846db6"
      },
      "execution_count": null,
      "outputs": [
        {
          "output_type": "stream",
          "name": "stdout",
          "text": [
            "Kimble\n"
          ]
        }
      ]
    },
    {
      "cell_type": "code",
      "source": [
        "patient_name = patient_1['first_name']\n",
        "print('hello there, '+patient_name)"
      ],
      "metadata": {
        "colab": {
          "base_uri": "https://localhost:8080/"
        },
        "id": "opPX-MGhzDSo",
        "outputId": "e51e6864-8cdb-4eb5-c78d-5a13ea51d052"
      },
      "execution_count": null,
      "outputs": [
        {
          "output_type": "stream",
          "name": "stdout",
          "text": [
            "hello there, John\n"
          ]
        }
      ]
    },
    {
      "cell_type": "code",
      "source": [
        "patient_2 = {}"
      ],
      "metadata": {
        "id": "6ksbryYp6_Cn"
      },
      "execution_count": null,
      "outputs": []
    },
    {
      "cell_type": "code",
      "source": [
        "patient_2['first name'] = 'John'"
      ],
      "metadata": {
        "id": "O6QIynRy7Dg4"
      },
      "execution_count": null,
      "outputs": []
    },
    {
      "cell_type": "code",
      "source": [
        "patient_2['Last Name'] = 'Wick'"
      ],
      "metadata": {
        "id": "WVAwdjze7IuK"
      },
      "execution_count": null,
      "outputs": []
    },
    {
      "cell_type": "code",
      "source": [
        "patient_2"
      ],
      "metadata": {
        "colab": {
          "base_uri": "https://localhost:8080/"
        },
        "id": "hy_BUXd_7MeW",
        "outputId": "1393cb6a-79d0-42ac-d278-8d0f647afd69"
      },
      "execution_count": null,
      "outputs": [
        {
          "output_type": "execute_result",
          "data": {
            "text/plain": [
              "{'Last Name': 'Wick', 'first name': 'John'}"
            ]
          },
          "metadata": {},
          "execution_count": 18
        }
      ]
    },
    {
      "cell_type": "code",
      "source": [
        "patient_2['Fruits'] = 'Orange'"
      ],
      "metadata": {
        "id": "omCAE8_L7XYA"
      },
      "execution_count": null,
      "outputs": []
    },
    {
      "cell_type": "code",
      "source": [
        "patient_2['Object'] = 'Floor'"
      ],
      "metadata": {
        "id": "DYcjmouP7Yka"
      },
      "execution_count": null,
      "outputs": []
    },
    {
      "cell_type": "code",
      "source": [
        "patient_2"
      ],
      "metadata": {
        "id": "ubQd2AXhA2pH"
      },
      "execution_count": null,
      "outputs": []
    },
    {
      "cell_type": "code",
      "source": [
        "del patient_2['Object']"
      ],
      "metadata": {
        "id": "aCIoLSi7A6NS"
      },
      "execution_count": null,
      "outputs": []
    },
    {
      "cell_type": "code",
      "source": [
        "patient_2"
      ],
      "metadata": {
        "id": "ft7sEMSyA86H"
      },
      "execution_count": null,
      "outputs": []
    },
    {
      "cell_type": "code",
      "source": [
        "patient_2['Object'] = ['fruits', 12, 2.4, 'strings']"
      ],
      "metadata": {
        "id": "0z-k3d3XA0PJ"
      },
      "execution_count": null,
      "outputs": []
    },
    {
      "cell_type": "code",
      "source": [
        "patient_2"
      ],
      "metadata": {
        "colab": {
          "base_uri": "https://localhost:8080/"
        },
        "id": "yyeBJt0p7alN",
        "outputId": "3999108e-721b-4837-cc18-804742a8e9a5"
      },
      "execution_count": null,
      "outputs": [
        {
          "output_type": "execute_result",
          "data": {
            "text/plain": [
              "{'Fruits': 'Orange',\n",
              " 'Last Name': 'Wick',\n",
              " 'Object': 'Floor',\n",
              " 'first name': 'John'}"
            ]
          },
          "metadata": {},
          "execution_count": 21
        }
      ]
    },
    {
      "cell_type": "code",
      "source": [
        "del patient_2['Object']"
      ],
      "metadata": {
        "id": "CniDbyBN7hDd"
      },
      "execution_count": null,
      "outputs": []
    },
    {
      "cell_type": "code",
      "source": [
        "patient_2"
      ],
      "metadata": {
        "colab": {
          "base_uri": "https://localhost:8080/"
        },
        "id": "xg91NTG67kNg",
        "outputId": "c03f89ef-89ad-4d45-8da9-cde088c37f95"
      },
      "execution_count": null,
      "outputs": [
        {
          "output_type": "execute_result",
          "data": {
            "text/plain": [
              "{'Fruits': 'Orange', 'Last Name': 'Wick', 'first name': 'John'}"
            ]
          },
          "metadata": {},
          "execution_count": 23
        }
      ]
    },
    {
      "cell_type": "code",
      "source": [
        "patient_2['Object'] = ['fruits', 12, 2.4, 'strings']"
      ],
      "metadata": {
        "id": "sthO84TbsjX3"
      },
      "execution_count": null,
      "outputs": []
    },
    {
      "cell_type": "code",
      "source": [
        "patient_2['Object'][-1][3:]"
      ],
      "metadata": {
        "colab": {
          "base_uri": "https://localhost:8080/",
          "height": 165
        },
        "id": "xBkgqaW_8bn-",
        "outputId": "1c162a3f-4245-4855-f6c5-9ae3615e925a"
      },
      "execution_count": null,
      "outputs": [
        {
          "output_type": "error",
          "ename": "KeyError",
          "evalue": "ignored",
          "traceback": [
            "\u001b[0;31m---------------------------------------------------------------------------\u001b[0m",
            "\u001b[0;31mKeyError\u001b[0m                                  Traceback (most recent call last)",
            "\u001b[0;32m<ipython-input-37-d112d3fb91ab>\u001b[0m in \u001b[0;36m<module>\u001b[0;34m()\u001b[0m\n\u001b[0;32m----> 1\u001b[0;31m \u001b[0mpatient_2\u001b[0m\u001b[0;34m[\u001b[0m\u001b[0;34m'Object'\u001b[0m\u001b[0;34m]\u001b[0m\u001b[0;34m[\u001b[0m\u001b[0;34m-\u001b[0m\u001b[0;36m1\u001b[0m\u001b[0;34m]\u001b[0m\u001b[0;34m[\u001b[0m\u001b[0;36m3\u001b[0m\u001b[0;34m:\u001b[0m\u001b[0;34m]\u001b[0m\u001b[0;34m\u001b[0m\u001b[0;34m\u001b[0m\u001b[0m\n\u001b[0m",
            "\u001b[0;31mKeyError\u001b[0m: 'Object'"
          ]
        }
      ]
    },
    {
      "cell_type": "code",
      "source": [
        "patient_2['Object'][0].upper()"
      ],
      "metadata": {
        "colab": {
          "base_uri": "https://localhost:8080/",
          "height": 165
        },
        "id": "RuabrZBm7zyi",
        "outputId": "6bf6e09e-eb2f-40fc-a554-89c2975f7b33"
      },
      "execution_count": null,
      "outputs": [
        {
          "output_type": "error",
          "ename": "KeyError",
          "evalue": "ignored",
          "traceback": [
            "\u001b[0;31m---------------------------------------------------------------------------\u001b[0m",
            "\u001b[0;31mKeyError\u001b[0m                                  Traceback (most recent call last)",
            "\u001b[0;32m<ipython-input-36-882313ea406a>\u001b[0m in \u001b[0;36m<module>\u001b[0;34m()\u001b[0m\n\u001b[0;32m----> 1\u001b[0;31m \u001b[0mpatient_2\u001b[0m\u001b[0;34m[\u001b[0m\u001b[0;34m'Object'\u001b[0m\u001b[0;34m]\u001b[0m\u001b[0;34m[\u001b[0m\u001b[0;36m0\u001b[0m\u001b[0;34m]\u001b[0m\u001b[0;34m.\u001b[0m\u001b[0mupper\u001b[0m\u001b[0;34m(\u001b[0m\u001b[0;34m)\u001b[0m\u001b[0;34m\u001b[0m\u001b[0;34m\u001b[0m\u001b[0m\n\u001b[0m",
            "\u001b[0;31mKeyError\u001b[0m: 'Object'"
          ]
        }
      ]
    },
    {
      "cell_type": "code",
      "source": [
        "patient_3 = {'Name': 'Jack', 'Last Name': 'Sparrow', 'MRN': '001234567', 'DOB': '22231845'}"
      ],
      "metadata": {
        "id": "3Jk9NiKVsjFz"
      },
      "execution_count": null,
      "outputs": []
    },
    {
      "cell_type": "code",
      "source": [
        "patient_3"
      ],
      "metadata": {
        "id": "-5dRIUe5sjDn",
        "colab": {
          "base_uri": "https://localhost:8080/"
        },
        "outputId": "0061341e-ab53-4827-9257-2fcaa25ea9cc"
      },
      "execution_count": null,
      "outputs": [
        {
          "output_type": "execute_result",
          "data": {
            "text/plain": [
              "{'DOB': '22231845', 'Last Name': 'Sparrow', 'MRN': '001234567', 'Name': 'Jack'}"
            ]
          },
          "metadata": {},
          "execution_count": 12
        }
      ]
    },
    {
      "cell_type": "code",
      "source": [
        "print(f'The first name of the Patient is {patient_3[\"Name\"]}')\n",
        "print(f'The last name of the Patient is {patient_3[\"Last Name\"]}')\n",
        "print(f'The ID of the Patient is {patient_3[\"MRN\"]}')\n",
        "print(f'The DOB of the Patient is {patient_3[\"DOB\"]}')"
      ],
      "metadata": {
        "id": "PRKFy2aBsjBU",
        "colab": {
          "base_uri": "https://localhost:8080/"
        },
        "outputId": "e997912d-f294-4436-f6c0-6110b61b389f"
      },
      "execution_count": null,
      "outputs": [
        {
          "output_type": "stream",
          "name": "stdout",
          "text": [
            "The first name of the Patient is Jack\n",
            "The last name of the Patient is Sparrow\n",
            "The ID of the Patient is 001234567\n",
            "The DOB of the Patient is 22231845\n"
          ]
        }
      ]
    },
    {
      "cell_type": "markdown",
      "source": [
        "# Nesting with Dictionaries"
      ],
      "metadata": {
        "id": "MIfGB3YQAe34"
      }
    },
    {
      "cell_type": "code",
      "source": [
        "# Dictionary nested inside a dictionary nested in side a dictionary\n",
        "d = {'key1':{'nestkey':{'subnestkey':'value'}}}"
      ],
      "metadata": {
        "id": "JS808CJwsi_H"
      },
      "execution_count": null,
      "outputs": []
    },
    {
      "cell_type": "code",
      "source": [
        "# Keep calling the keys\n",
        "d['key1']['nestkey']['subnestkey']"
      ],
      "metadata": {
        "id": "ik-DMlH7si8m"
      },
      "execution_count": null,
      "outputs": []
    },
    {
      "cell_type": "markdown",
      "source": [
        "# Dictionary Methods"
      ],
      "metadata": {
        "id": "lMrV1doIsi6X"
      }
    },
    {
      "cell_type": "code",
      "source": [
        "# Create a typical dictionary\n",
        "d = {'key1':1,'key2':2,'key3':3}\n"
      ],
      "metadata": {
        "id": "oisXP0w-si4K"
      },
      "execution_count": null,
      "outputs": []
    },
    {
      "cell_type": "code",
      "source": [
        "# Method to return a list of all keys \n",
        "d.keys()"
      ],
      "metadata": {
        "id": "e1H47FQnsi1s"
      },
      "execution_count": null,
      "outputs": []
    },
    {
      "cell_type": "code",
      "source": [
        "# Method to grab all values\n",
        "d.values()"
      ],
      "metadata": {
        "id": "VbP0i23GsizY",
        "outputId": "1e65457f-bd86-4b2e-f228-f9e9432ce63d",
        "colab": {
          "base_uri": "https://localhost:8080/",
          "height": 183
        }
      },
      "execution_count": null,
      "outputs": [
        {
          "output_type": "error",
          "ename": "NameError",
          "evalue": "ignored",
          "traceback": [
            "\u001b[0;31m---------------------------------------------------------------------------\u001b[0m",
            "\u001b[0;31mNameError\u001b[0m                                 Traceback (most recent call last)",
            "\u001b[0;32m<ipython-input-1-cd5c678e93d8>\u001b[0m in \u001b[0;36m<module>\u001b[0;34m()\u001b[0m\n\u001b[1;32m      1\u001b[0m \u001b[0;31m# Method to grab all values\u001b[0m\u001b[0;34m\u001b[0m\u001b[0;34m\u001b[0m\u001b[0;34m\u001b[0m\u001b[0m\n\u001b[0;32m----> 2\u001b[0;31m \u001b[0md\u001b[0m\u001b[0;34m.\u001b[0m\u001b[0mvalues\u001b[0m\u001b[0;34m(\u001b[0m\u001b[0;34m)\u001b[0m\u001b[0;34m\u001b[0m\u001b[0;34m\u001b[0m\u001b[0m\n\u001b[0m",
            "\u001b[0;31mNameError\u001b[0m: name 'd' is not defined"
          ]
        }
      ]
    },
    {
      "cell_type": "code",
      "source": [
        "# Method to return tuples of all items  (we'll learn about tuples soon)\n",
        "d.items()"
      ],
      "metadata": {
        "id": "Q6MBpJ_nBNbz"
      },
      "execution_count": null,
      "outputs": []
    }
  ]
}